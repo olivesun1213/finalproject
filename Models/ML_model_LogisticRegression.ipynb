{
 "cells": [
  {
   "cell_type": "code",
   "execution_count": 1,
   "metadata": {},
   "outputs": [],
   "source": [
    "########### ML_model_LogisticRegression ####################"
   ]
  },
  {
   "cell_type": "code",
   "execution_count": 2,
   "metadata": {},
   "outputs": [],
   "source": [
    "# Update sklearn to prevent version mismatches\n",
    "# !pip install sklearn --upgrade"
   ]
  },
  {
   "cell_type": "markdown",
   "metadata": {},
   "source": [
    "### Data preparation "
   ]
  },
  {
   "cell_type": "code",
   "execution_count": 3,
   "metadata": {},
   "outputs": [],
   "source": [
    "# dependency\n",
    "import numpy as np\n",
    "import pandas as pd"
   ]
  },
  {
   "cell_type": "code",
   "execution_count": 4,
   "metadata": {},
   "outputs": [
    {
     "data": {
      "text/html": [
       "<div>\n",
       "<style scoped>\n",
       "    .dataframe tbody tr th:only-of-type {\n",
       "        vertical-align: middle;\n",
       "    }\n",
       "\n",
       "    .dataframe tbody tr th {\n",
       "        vertical-align: top;\n",
       "    }\n",
       "\n",
       "    .dataframe thead th {\n",
       "        text-align: right;\n",
       "    }\n",
       "</style>\n",
       "<table border=\"1\" class=\"dataframe\">\n",
       "  <thead>\n",
       "    <tr style=\"text-align: right;\">\n",
       "      <th></th>\n",
       "      <th>ACCNUM</th>\n",
       "      <th>DATE</th>\n",
       "      <th>TIME</th>\n",
       "      <th>HOUR</th>\n",
       "      <th>STREET1</th>\n",
       "      <th>STREET2</th>\n",
       "      <th>ROAD_CLASS</th>\n",
       "      <th>LATITUDE</th>\n",
       "      <th>LONGITUDE</th>\n",
       "      <th>LOCCOORD</th>\n",
       "      <th>...</th>\n",
       "      <th>TRUCK</th>\n",
       "      <th>TRSN_CITY_VEH</th>\n",
       "      <th>EMERG_VEH</th>\n",
       "      <th>SPEEDING</th>\n",
       "      <th>AG_DRIV</th>\n",
       "      <th>REDLIGHT</th>\n",
       "      <th>ALCOHOL</th>\n",
       "      <th>DISABILITY</th>\n",
       "      <th>Hood_ID</th>\n",
       "      <th>Neighbourhood</th>\n",
       "    </tr>\n",
       "  </thead>\n",
       "  <tbody>\n",
       "    <tr>\n",
       "      <th>0</th>\n",
       "      <td>893184</td>\n",
       "      <td>2006/01/01 05:00:00+00</td>\n",
       "      <td>236</td>\n",
       "      <td>2</td>\n",
       "      <td>WOODBINE AVE</td>\n",
       "      <td>O CONNOR DR</td>\n",
       "      <td>Major Arterial</td>\n",
       "      <td>43.699595</td>\n",
       "      <td>-79.318797</td>\n",
       "      <td>Intersection</td>\n",
       "      <td>...</td>\n",
       "      <td>No</td>\n",
       "      <td>No</td>\n",
       "      <td>No</td>\n",
       "      <td>Yes</td>\n",
       "      <td>Yes</td>\n",
       "      <td>No</td>\n",
       "      <td>Yes</td>\n",
       "      <td>No</td>\n",
       "      <td>60</td>\n",
       "      <td>Woodbine-Lumsden (60)</td>\n",
       "    </tr>\n",
       "    <tr>\n",
       "      <th>1</th>\n",
       "      <td>893184</td>\n",
       "      <td>2006/01/01 05:00:00+00</td>\n",
       "      <td>236</td>\n",
       "      <td>2</td>\n",
       "      <td>WOODBINE AVE</td>\n",
       "      <td>O CONNOR DR</td>\n",
       "      <td>Major Arterial</td>\n",
       "      <td>43.699595</td>\n",
       "      <td>-79.318797</td>\n",
       "      <td>Intersection</td>\n",
       "      <td>...</td>\n",
       "      <td>No</td>\n",
       "      <td>No</td>\n",
       "      <td>No</td>\n",
       "      <td>Yes</td>\n",
       "      <td>Yes</td>\n",
       "      <td>No</td>\n",
       "      <td>Yes</td>\n",
       "      <td>No</td>\n",
       "      <td>60</td>\n",
       "      <td>Woodbine-Lumsden (60)</td>\n",
       "    </tr>\n",
       "    <tr>\n",
       "      <th>2</th>\n",
       "      <td>893184</td>\n",
       "      <td>2006/01/01 05:00:00+00</td>\n",
       "      <td>236</td>\n",
       "      <td>2</td>\n",
       "      <td>WOODBINE AVE</td>\n",
       "      <td>O CONNOR DR</td>\n",
       "      <td>Major Arterial</td>\n",
       "      <td>43.699595</td>\n",
       "      <td>-79.318797</td>\n",
       "      <td>Intersection</td>\n",
       "      <td>...</td>\n",
       "      <td>No</td>\n",
       "      <td>No</td>\n",
       "      <td>No</td>\n",
       "      <td>Yes</td>\n",
       "      <td>Yes</td>\n",
       "      <td>No</td>\n",
       "      <td>Yes</td>\n",
       "      <td>No</td>\n",
       "      <td>60</td>\n",
       "      <td>Woodbine-Lumsden (60)</td>\n",
       "    </tr>\n",
       "    <tr>\n",
       "      <th>3</th>\n",
       "      <td>893184</td>\n",
       "      <td>2006/01/01 05:00:00+00</td>\n",
       "      <td>236</td>\n",
       "      <td>2</td>\n",
       "      <td>WOODBINE AVE</td>\n",
       "      <td>O CONNOR DR</td>\n",
       "      <td>Major Arterial</td>\n",
       "      <td>43.699595</td>\n",
       "      <td>-79.318797</td>\n",
       "      <td>Intersection</td>\n",
       "      <td>...</td>\n",
       "      <td>No</td>\n",
       "      <td>No</td>\n",
       "      <td>No</td>\n",
       "      <td>Yes</td>\n",
       "      <td>Yes</td>\n",
       "      <td>No</td>\n",
       "      <td>Yes</td>\n",
       "      <td>No</td>\n",
       "      <td>60</td>\n",
       "      <td>Woodbine-Lumsden (60)</td>\n",
       "    </tr>\n",
       "    <tr>\n",
       "      <th>4</th>\n",
       "      <td>893184</td>\n",
       "      <td>2006/01/01 05:00:00+00</td>\n",
       "      <td>236</td>\n",
       "      <td>2</td>\n",
       "      <td>WOODBINE AVE</td>\n",
       "      <td>O CONNOR DR</td>\n",
       "      <td>Major Arterial</td>\n",
       "      <td>43.699595</td>\n",
       "      <td>-79.318797</td>\n",
       "      <td>Intersection</td>\n",
       "      <td>...</td>\n",
       "      <td>No</td>\n",
       "      <td>No</td>\n",
       "      <td>No</td>\n",
       "      <td>Yes</td>\n",
       "      <td>Yes</td>\n",
       "      <td>No</td>\n",
       "      <td>Yes</td>\n",
       "      <td>No</td>\n",
       "      <td>60</td>\n",
       "      <td>Woodbine-Lumsden (60)</td>\n",
       "    </tr>\n",
       "  </tbody>\n",
       "</table>\n",
       "<p>5 rows × 36 columns</p>\n",
       "</div>"
      ],
      "text/plain": [
       "   ACCNUM                    DATE  TIME  HOUR       STREET1      STREET2  \\\n",
       "0  893184  2006/01/01 05:00:00+00   236     2  WOODBINE AVE  O CONNOR DR   \n",
       "1  893184  2006/01/01 05:00:00+00   236     2  WOODBINE AVE  O CONNOR DR   \n",
       "2  893184  2006/01/01 05:00:00+00   236     2  WOODBINE AVE  O CONNOR DR   \n",
       "3  893184  2006/01/01 05:00:00+00   236     2  WOODBINE AVE  O CONNOR DR   \n",
       "4  893184  2006/01/01 05:00:00+00   236     2  WOODBINE AVE  O CONNOR DR   \n",
       "\n",
       "       ROAD_CLASS   LATITUDE  LONGITUDE      LOCCOORD  ... TRUCK  \\\n",
       "0  Major Arterial  43.699595 -79.318797  Intersection  ...    No   \n",
       "1  Major Arterial  43.699595 -79.318797  Intersection  ...    No   \n",
       "2  Major Arterial  43.699595 -79.318797  Intersection  ...    No   \n",
       "3  Major Arterial  43.699595 -79.318797  Intersection  ...    No   \n",
       "4  Major Arterial  43.699595 -79.318797  Intersection  ...    No   \n",
       "\n",
       "  TRSN_CITY_VEH EMERG_VEH SPEEDING AG_DRIV REDLIGHT ALCOHOL DISABILITY  \\\n",
       "0            No        No      Yes     Yes       No     Yes         No   \n",
       "1            No        No      Yes     Yes       No     Yes         No   \n",
       "2            No        No      Yes     Yes       No     Yes         No   \n",
       "3            No        No      Yes     Yes       No     Yes         No   \n",
       "4            No        No      Yes     Yes       No     Yes         No   \n",
       "\n",
       "  Hood_ID          Neighbourhood  \n",
       "0      60  Woodbine-Lumsden (60)  \n",
       "1      60  Woodbine-Lumsden (60)  \n",
       "2      60  Woodbine-Lumsden (60)  \n",
       "3      60  Woodbine-Lumsden (60)  \n",
       "4      60  Woodbine-Lumsden (60)  \n",
       "\n",
       "[5 rows x 36 columns]"
      ]
     },
     "execution_count": 4,
     "metadata": {},
     "output_type": "execute_result"
    }
   ],
   "source": [
    "df = pd.read_csv(\"../Data/ksi_cleaned.csv\")\n",
    "df.head()"
   ]
  },
  {
   "cell_type": "code",
   "execution_count": 5,
   "metadata": {},
   "outputs": [
    {
     "data": {
      "text/plain": [
       "Index(['ACCNUM', 'DATE', 'TIME', 'HOUR', 'STREET1', 'STREET2', 'ROAD_CLASS',\n",
       "       'LATITUDE', 'LONGITUDE', 'LOCCOORD', 'TRAFFCTL', 'VISIBILITY', 'LIGHT',\n",
       "       'RDSFCOND', 'ACCLASS', 'INVTYPE', 'INVAGE', 'Age_mid', 'INJURY',\n",
       "       'VEHTYPE', 'DRIVACT', 'DRIVCOND', 'PEDESTRIAN', 'CYCLIST', 'AUTOMOBILE',\n",
       "       'MOTORCYCLE', 'TRUCK', 'TRSN_CITY_VEH', 'EMERG_VEH', 'SPEEDING',\n",
       "       'AG_DRIV', 'REDLIGHT', 'ALCOHOL', 'DISABILITY', 'Hood_ID',\n",
       "       'Neighbourhood'],\n",
       "      dtype='object')"
      ]
     },
     "execution_count": 5,
     "metadata": {},
     "output_type": "execute_result"
    }
   ],
   "source": [
    "df.columns"
   ]
  },
  {
   "cell_type": "code",
   "execution_count": 6,
   "metadata": {},
   "outputs": [
    {
     "name": "stdout",
     "output_type": "stream",
     "text": [
      "(16093, 6) (16093,)\n"
     ]
    }
   ],
   "source": [
    "# Select features then Assign X (data) and y (target)\n",
    "X = df[[\"HOUR\", \"ROAD_CLASS\" , \"TRAFFCTL\", \"VISIBILITY\", \"LIGHT\", \"RDSFCOND\"]]\n",
    "y = df[\"ACCLASS\"]\n",
    "print(X.shape, y.shape)"
   ]
  },
  {
   "cell_type": "code",
   "execution_count": 7,
   "metadata": {},
   "outputs": [
    {
     "data": {
      "text/plain": [
       "Index(['HOUR', 'ROAD_CLASS', 'TRAFFCTL', 'VISIBILITY', 'LIGHT', 'RDSFCOND'], dtype='object')"
      ]
     },
     "execution_count": 7,
     "metadata": {},
     "output_type": "execute_result"
    }
   ],
   "source": [
    "#features : all categorical value\n",
    "X.columns "
   ]
  },
  {
   "cell_type": "code",
   "execution_count": 8,
   "metadata": {},
   "outputs": [
    {
     "name": "stdout",
     "output_type": "stream",
     "text": [
      "[0, 1, 2, 3, 4, 5, 6, 7, 8, 9, 10, 11, 12, 13, 14, 15, 16, 17, 18, 19, 20, 21, 22, 23]\n"
     ]
    }
   ],
   "source": [
    "print(sorted(X.HOUR.unique()))"
   ]
  },
  {
   "cell_type": "code",
   "execution_count": 9,
   "metadata": {},
   "outputs": [
    {
     "data": {
      "text/plain": [
       "array(['Major Arterial', 'Minor Arterial', 'Collector', 'Local',\n",
       "       'Unknown', 'Other', 'Pending', 'Laneway', 'Expressway',\n",
       "       'Major Arterial Ramp'], dtype=object)"
      ]
     },
     "execution_count": 9,
     "metadata": {},
     "output_type": "execute_result"
    }
   ],
   "source": [
    "X.ROAD_CLASS.unique()"
   ]
  },
  {
   "cell_type": "code",
   "execution_count": 10,
   "metadata": {},
   "outputs": [
    {
     "data": {
      "text/plain": [
       "array(['No Control', 'Traffic Signal', 'Pedestrian Crossover',\n",
       "       'Stop Sign', 'Unknown', 'Yield Sign', 'Traffic Controller',\n",
       "       'School Guard', 'Police Control', 'Traffic Gate',\n",
       "       'Streetcar (Stop for)', 'PXO - No Ped'], dtype=object)"
      ]
     },
     "execution_count": 10,
     "metadata": {},
     "output_type": "execute_result"
    }
   ],
   "source": [
    "X.TRAFFCTL.unique()"
   ]
  },
  {
   "cell_type": "code",
   "execution_count": 11,
   "metadata": {},
   "outputs": [
    {
     "data": {
      "text/plain": [
       "array(['Clear', 'Snow', 'Other', 'Rain', 'Strong wind',\n",
       "       'Fog, Mist, Smoke, Dust', 'Drifting Snow', 'Freezing Rain',\n",
       "       'Unknown'], dtype=object)"
      ]
     },
     "execution_count": 11,
     "metadata": {},
     "output_type": "execute_result"
    }
   ],
   "source": [
    "X.VISIBILITY.unique()"
   ]
  },
  {
   "cell_type": "code",
   "execution_count": 12,
   "metadata": {},
   "outputs": [
    {
     "data": {
      "text/plain": [
       "array(['Dark', 'Dark, artificial', 'Daylight', 'Dusk', 'Dawn',\n",
       "       'Dusk, artificial', 'Dawn, artificial', 'Daylight, artificial',\n",
       "       'Other'], dtype=object)"
      ]
     },
     "execution_count": 12,
     "metadata": {},
     "output_type": "execute_result"
    }
   ],
   "source": [
    "X.LIGHT.unique()"
   ]
  },
  {
   "cell_type": "code",
   "execution_count": 13,
   "metadata": {},
   "outputs": [
    {
     "data": {
      "text/plain": [
       "array(['Wet', 'Slush', 'Dry', 'Ice', 'Other', 'Loose Snow', 'Packed Snow',\n",
       "       'Spilled liquid', 'Loose Sand or Gravel', 'Unknown'], dtype=object)"
      ]
     },
     "execution_count": 13,
     "metadata": {},
     "output_type": "execute_result"
    }
   ],
   "source": [
    "X.RDSFCOND.unique()"
   ]
  },
  {
   "cell_type": "code",
   "execution_count": 14,
   "metadata": {},
   "outputs": [
    {
     "data": {
      "text/plain": [
       "array(['Non-Fatal Injury', 'Fatal'], dtype=object)"
      ]
     },
     "execution_count": 14,
     "metadata": {},
     "output_type": "execute_result"
    }
   ],
   "source": [
    "y.unique()"
   ]
  },
  {
   "cell_type": "markdown",
   "metadata": {},
   "source": [
    "### Preprocessing"
   ]
  },
  {
   "cell_type": "markdown",
   "metadata": {},
   "source": [
    "Transform to numeric representation and add as a new columns"
   ]
  },
  {
   "cell_type": "code",
   "execution_count": 15,
   "metadata": {},
   "outputs": [
    {
     "name": "stderr",
     "output_type": "stream",
     "text": [
      "C:\\Users\\JJ\\anaconda3\\lib\\site-packages\\ipykernel_launcher.py:6: SettingWithCopyWarning: \n",
      "A value is trying to be set on a copy of a slice from a DataFrame.\n",
      "Try using .loc[row_indexer,col_indexer] = value instead\n",
      "\n",
      "See the caveats in the documentation: https://pandas.pydata.org/pandas-docs/stable/user_guide/indexing.html#returning-a-view-versus-a-copy\n",
      "  \n",
      "C:\\Users\\JJ\\anaconda3\\lib\\site-packages\\ipykernel_launcher.py:11: SettingWithCopyWarning: \n",
      "A value is trying to be set on a copy of a slice from a DataFrame.\n",
      "Try using .loc[row_indexer,col_indexer] = value instead\n",
      "\n",
      "See the caveats in the documentation: https://pandas.pydata.org/pandas-docs/stable/user_guide/indexing.html#returning-a-view-versus-a-copy\n",
      "  # This is added back by InteractiveShellApp.init_path()\n",
      "C:\\Users\\JJ\\anaconda3\\lib\\site-packages\\ipykernel_launcher.py:16: SettingWithCopyWarning: \n",
      "A value is trying to be set on a copy of a slice from a DataFrame.\n",
      "Try using .loc[row_indexer,col_indexer] = value instead\n",
      "\n",
      "See the caveats in the documentation: https://pandas.pydata.org/pandas-docs/stable/user_guide/indexing.html#returning-a-view-versus-a-copy\n",
      "  app.launch_new_instance()\n",
      "C:\\Users\\JJ\\anaconda3\\lib\\site-packages\\ipykernel_launcher.py:21: SettingWithCopyWarning: \n",
      "A value is trying to be set on a copy of a slice from a DataFrame.\n",
      "Try using .loc[row_indexer,col_indexer] = value instead\n",
      "\n",
      "See the caveats in the documentation: https://pandas.pydata.org/pandas-docs/stable/user_guide/indexing.html#returning-a-view-versus-a-copy\n",
      "C:\\Users\\JJ\\anaconda3\\lib\\site-packages\\ipykernel_launcher.py:26: SettingWithCopyWarning: \n",
      "A value is trying to be set on a copy of a slice from a DataFrame.\n",
      "Try using .loc[row_indexer,col_indexer] = value instead\n",
      "\n",
      "See the caveats in the documentation: https://pandas.pydata.org/pandas-docs/stable/user_guide/indexing.html#returning-a-view-versus-a-copy\n",
      "C:\\Users\\JJ\\anaconda3\\lib\\site-packages\\ipykernel_launcher.py:31: SettingWithCopyWarning: \n",
      "A value is trying to be set on a copy of a slice from a DataFrame.\n",
      "Try using .loc[row_indexer,col_indexer] = value instead\n",
      "\n",
      "See the caveats in the documentation: https://pandas.pydata.org/pandas-docs/stable/user_guide/indexing.html#returning-a-view-versus-a-copy\n"
     ]
    },
    {
     "data": {
      "text/html": [
       "<div>\n",
       "<style scoped>\n",
       "    .dataframe tbody tr th:only-of-type {\n",
       "        vertical-align: middle;\n",
       "    }\n",
       "\n",
       "    .dataframe tbody tr th {\n",
       "        vertical-align: top;\n",
       "    }\n",
       "\n",
       "    .dataframe thead th {\n",
       "        text-align: right;\n",
       "    }\n",
       "</style>\n",
       "<table border=\"1\" class=\"dataframe\">\n",
       "  <thead>\n",
       "    <tr style=\"text-align: right;\">\n",
       "      <th></th>\n",
       "      <th>HOUR</th>\n",
       "      <th>ROAD_CLASS</th>\n",
       "      <th>TRAFFCTL</th>\n",
       "      <th>VISIBILITY</th>\n",
       "      <th>LIGHT</th>\n",
       "      <th>RDSFCOND</th>\n",
       "      <th>HOUR_Label</th>\n",
       "      <th>ROADCLASS_Label</th>\n",
       "      <th>TRAFFCTL_Label</th>\n",
       "      <th>VISIBILITY_Label</th>\n",
       "      <th>LIGHT_Label</th>\n",
       "      <th>RDSFCOND_Label</th>\n",
       "    </tr>\n",
       "  </thead>\n",
       "  <tbody>\n",
       "    <tr>\n",
       "      <th>0</th>\n",
       "      <td>2</td>\n",
       "      <td>Major Arterial</td>\n",
       "      <td>No Control</td>\n",
       "      <td>Clear</td>\n",
       "      <td>Dark</td>\n",
       "      <td>Wet</td>\n",
       "      <td>2</td>\n",
       "      <td>4</td>\n",
       "      <td>0</td>\n",
       "      <td>0</td>\n",
       "      <td>0</td>\n",
       "      <td>9</td>\n",
       "    </tr>\n",
       "    <tr>\n",
       "      <th>1</th>\n",
       "      <td>2</td>\n",
       "      <td>Major Arterial</td>\n",
       "      <td>No Control</td>\n",
       "      <td>Clear</td>\n",
       "      <td>Dark</td>\n",
       "      <td>Wet</td>\n",
       "      <td>2</td>\n",
       "      <td>4</td>\n",
       "      <td>0</td>\n",
       "      <td>0</td>\n",
       "      <td>0</td>\n",
       "      <td>9</td>\n",
       "    </tr>\n",
       "    <tr>\n",
       "      <th>2</th>\n",
       "      <td>2</td>\n",
       "      <td>Major Arterial</td>\n",
       "      <td>No Control</td>\n",
       "      <td>Clear</td>\n",
       "      <td>Dark</td>\n",
       "      <td>Wet</td>\n",
       "      <td>2</td>\n",
       "      <td>4</td>\n",
       "      <td>0</td>\n",
       "      <td>0</td>\n",
       "      <td>0</td>\n",
       "      <td>9</td>\n",
       "    </tr>\n",
       "    <tr>\n",
       "      <th>3</th>\n",
       "      <td>2</td>\n",
       "      <td>Major Arterial</td>\n",
       "      <td>No Control</td>\n",
       "      <td>Clear</td>\n",
       "      <td>Dark</td>\n",
       "      <td>Wet</td>\n",
       "      <td>2</td>\n",
       "      <td>4</td>\n",
       "      <td>0</td>\n",
       "      <td>0</td>\n",
       "      <td>0</td>\n",
       "      <td>9</td>\n",
       "    </tr>\n",
       "    <tr>\n",
       "      <th>4</th>\n",
       "      <td>2</td>\n",
       "      <td>Major Arterial</td>\n",
       "      <td>No Control</td>\n",
       "      <td>Clear</td>\n",
       "      <td>Dark</td>\n",
       "      <td>Wet</td>\n",
       "      <td>2</td>\n",
       "      <td>4</td>\n",
       "      <td>0</td>\n",
       "      <td>0</td>\n",
       "      <td>0</td>\n",
       "      <td>9</td>\n",
       "    </tr>\n",
       "  </tbody>\n",
       "</table>\n",
       "</div>"
      ],
      "text/plain": [
       "   HOUR      ROAD_CLASS    TRAFFCTL VISIBILITY LIGHT RDSFCOND  HOUR_Label  \\\n",
       "0     2  Major Arterial  No Control      Clear  Dark      Wet           2   \n",
       "1     2  Major Arterial  No Control      Clear  Dark      Wet           2   \n",
       "2     2  Major Arterial  No Control      Clear  Dark      Wet           2   \n",
       "3     2  Major Arterial  No Control      Clear  Dark      Wet           2   \n",
       "4     2  Major Arterial  No Control      Clear  Dark      Wet           2   \n",
       "\n",
       "   ROADCLASS_Label  TRAFFCTL_Label  VISIBILITY_Label  LIGHT_Label  \\\n",
       "0                4               0                 0            0   \n",
       "1                4               0                 0            0   \n",
       "2                4               0                 0            0   \n",
       "3                4               0                 0            0   \n",
       "4                4               0                 0            0   \n",
       "\n",
       "   RDSFCOND_Label  \n",
       "0               9  \n",
       "1               9  \n",
       "2               9  \n",
       "3               9  \n",
       "4               9  "
      ]
     },
     "execution_count": 15,
     "metadata": {},
     "output_type": "execute_result"
    }
   ],
   "source": [
    "from sklearn.preprocessing import LabelEncoder,OneHotEncoder\n",
    "\n",
    "#0. HOUR\n",
    "HOUR_LE = LabelEncoder()\n",
    "HOUR_labels = HOUR_LE.fit_transform(X.HOUR)\n",
    "X[\"HOUR_Label\"]= HOUR_labels\n",
    "\n",
    "#1.'ROAD_CLASS'\n",
    "Road_class_LE = LabelEncoder()\n",
    "Road_class_labels = Road_class_LE.fit_transform(X.ROAD_CLASS)\n",
    "X[\"ROADCLASS_Label\"]=Road_class_labels\n",
    "\n",
    "#2.'TRAFFCTL'\n",
    "TRAFFCTL_LE = LabelEncoder()\n",
    "TRAFFCTL_labels = TRAFFCTL_LE.fit_transform(X.TRAFFCTL)\n",
    "X[\"TRAFFCTL_Label\"]=TRAFFCTL_labels\n",
    "\n",
    "#3.'VISIBILITY'\n",
    "VISIBILITY_LE = LabelEncoder()\n",
    "VISIBILITY_labels = VISIBILITY_LE.fit_transform(X.VISIBILITY)\n",
    "X[\"VISIBILITY_Label\"]=VISIBILITY_labels\n",
    "\n",
    "#4.'LIGHT'\n",
    "LIGHT_LE = LabelEncoder()\n",
    "LIGHT_labels = LIGHT_LE.fit_transform(X.LIGHT)\n",
    "X[\"LIGHT_Label\"]=LIGHT_labels\n",
    "\n",
    "#5.'RDSFCOND'\n",
    "RDSFCOND_LE = LabelEncoder()\n",
    "RDSFCOND_labels = RDSFCOND_LE.fit_transform(X.RDSFCOND)\n",
    "X[\"RDSFCOND_Label\"]=RDSFCOND_labels\n",
    "\n",
    "X.head()"
   ]
  },
  {
   "cell_type": "code",
   "execution_count": 16,
   "metadata": {},
   "outputs": [],
   "source": [
    "#X.to_csv(\"X_label_encoded.csv\")"
   ]
  },
  {
   "cell_type": "markdown",
   "metadata": {},
   "source": [
    "####### one-hot encoding scheme easily by leveraging the to_dummies(…) function from pandas."
   ]
  },
  {
   "cell_type": "code",
   "execution_count": 17,
   "metadata": {},
   "outputs": [],
   "source": [
    "# 'HOUR' ,'ROAD_CLASS', 'TRAFFCTL', 'VISIBILITY', 'LIGHT', 'RDSFCOND'\n",
    "\n",
    "HOUR_onehot_features = pd.get_dummies(X['HOUR'])\n",
    "ROADCLASS_onehot_features = pd.get_dummies(X['ROAD_CLASS'])\n",
    "TRAFFCTL_onehot_features = pd.get_dummies(X['TRAFFCTL'])\n",
    "VISIBILITY_onehot_features = pd.get_dummies(X['VISIBILITY'])\n",
    "LIGHT_onehot_features = pd.get_dummies(X['LIGHT'])\n",
    "RDSFCOND_onehot_features = pd.get_dummies(X['RDSFCOND'])"
   ]
  },
  {
   "cell_type": "code",
   "execution_count": 18,
   "metadata": {},
   "outputs": [
    {
     "data": {
      "text/html": [
       "<div>\n",
       "<style scoped>\n",
       "    .dataframe tbody tr th:only-of-type {\n",
       "        vertical-align: middle;\n",
       "    }\n",
       "\n",
       "    .dataframe tbody tr th {\n",
       "        vertical-align: top;\n",
       "    }\n",
       "\n",
       "    .dataframe thead th {\n",
       "        text-align: right;\n",
       "    }\n",
       "</style>\n",
       "<table border=\"1\" class=\"dataframe\">\n",
       "  <thead>\n",
       "    <tr style=\"text-align: right;\">\n",
       "      <th></th>\n",
       "      <th>HOUR</th>\n",
       "      <th>ROAD_CLASS</th>\n",
       "      <th>TRAFFCTL</th>\n",
       "      <th>VISIBILITY</th>\n",
       "      <th>LIGHT</th>\n",
       "      <th>RDSFCOND</th>\n",
       "      <th>HOUR_Label</th>\n",
       "      <th>ROADCLASS_Label</th>\n",
       "      <th>TRAFFCTL_Label</th>\n",
       "      <th>VISIBILITY_Label</th>\n",
       "      <th>...</th>\n",
       "      <th>Dry</th>\n",
       "      <th>Ice</th>\n",
       "      <th>Loose Sand or Gravel</th>\n",
       "      <th>Loose Snow</th>\n",
       "      <th>Other</th>\n",
       "      <th>Packed Snow</th>\n",
       "      <th>Slush</th>\n",
       "      <th>Spilled liquid</th>\n",
       "      <th>Unknown</th>\n",
       "      <th>Wet</th>\n",
       "    </tr>\n",
       "  </thead>\n",
       "  <tbody>\n",
       "    <tr>\n",
       "      <th>0</th>\n",
       "      <td>2</td>\n",
       "      <td>Major Arterial</td>\n",
       "      <td>No Control</td>\n",
       "      <td>Clear</td>\n",
       "      <td>Dark</td>\n",
       "      <td>Wet</td>\n",
       "      <td>2</td>\n",
       "      <td>4</td>\n",
       "      <td>0</td>\n",
       "      <td>0</td>\n",
       "      <td>...</td>\n",
       "      <td>0</td>\n",
       "      <td>0</td>\n",
       "      <td>0</td>\n",
       "      <td>0</td>\n",
       "      <td>0</td>\n",
       "      <td>0</td>\n",
       "      <td>0</td>\n",
       "      <td>0</td>\n",
       "      <td>0</td>\n",
       "      <td>1</td>\n",
       "    </tr>\n",
       "    <tr>\n",
       "      <th>1</th>\n",
       "      <td>2</td>\n",
       "      <td>Major Arterial</td>\n",
       "      <td>No Control</td>\n",
       "      <td>Clear</td>\n",
       "      <td>Dark</td>\n",
       "      <td>Wet</td>\n",
       "      <td>2</td>\n",
       "      <td>4</td>\n",
       "      <td>0</td>\n",
       "      <td>0</td>\n",
       "      <td>...</td>\n",
       "      <td>0</td>\n",
       "      <td>0</td>\n",
       "      <td>0</td>\n",
       "      <td>0</td>\n",
       "      <td>0</td>\n",
       "      <td>0</td>\n",
       "      <td>0</td>\n",
       "      <td>0</td>\n",
       "      <td>0</td>\n",
       "      <td>1</td>\n",
       "    </tr>\n",
       "    <tr>\n",
       "      <th>2</th>\n",
       "      <td>2</td>\n",
       "      <td>Major Arterial</td>\n",
       "      <td>No Control</td>\n",
       "      <td>Clear</td>\n",
       "      <td>Dark</td>\n",
       "      <td>Wet</td>\n",
       "      <td>2</td>\n",
       "      <td>4</td>\n",
       "      <td>0</td>\n",
       "      <td>0</td>\n",
       "      <td>...</td>\n",
       "      <td>0</td>\n",
       "      <td>0</td>\n",
       "      <td>0</td>\n",
       "      <td>0</td>\n",
       "      <td>0</td>\n",
       "      <td>0</td>\n",
       "      <td>0</td>\n",
       "      <td>0</td>\n",
       "      <td>0</td>\n",
       "      <td>1</td>\n",
       "    </tr>\n",
       "    <tr>\n",
       "      <th>3</th>\n",
       "      <td>2</td>\n",
       "      <td>Major Arterial</td>\n",
       "      <td>No Control</td>\n",
       "      <td>Clear</td>\n",
       "      <td>Dark</td>\n",
       "      <td>Wet</td>\n",
       "      <td>2</td>\n",
       "      <td>4</td>\n",
       "      <td>0</td>\n",
       "      <td>0</td>\n",
       "      <td>...</td>\n",
       "      <td>0</td>\n",
       "      <td>0</td>\n",
       "      <td>0</td>\n",
       "      <td>0</td>\n",
       "      <td>0</td>\n",
       "      <td>0</td>\n",
       "      <td>0</td>\n",
       "      <td>0</td>\n",
       "      <td>0</td>\n",
       "      <td>1</td>\n",
       "    </tr>\n",
       "    <tr>\n",
       "      <th>4</th>\n",
       "      <td>2</td>\n",
       "      <td>Major Arterial</td>\n",
       "      <td>No Control</td>\n",
       "      <td>Clear</td>\n",
       "      <td>Dark</td>\n",
       "      <td>Wet</td>\n",
       "      <td>2</td>\n",
       "      <td>4</td>\n",
       "      <td>0</td>\n",
       "      <td>0</td>\n",
       "      <td>...</td>\n",
       "      <td>0</td>\n",
       "      <td>0</td>\n",
       "      <td>0</td>\n",
       "      <td>0</td>\n",
       "      <td>0</td>\n",
       "      <td>0</td>\n",
       "      <td>0</td>\n",
       "      <td>0</td>\n",
       "      <td>0</td>\n",
       "      <td>1</td>\n",
       "    </tr>\n",
       "  </tbody>\n",
       "</table>\n",
       "<p>5 rows × 86 columns</p>\n",
       "</div>"
      ],
      "text/plain": [
       "   HOUR      ROAD_CLASS    TRAFFCTL VISIBILITY LIGHT RDSFCOND  HOUR_Label  \\\n",
       "0     2  Major Arterial  No Control      Clear  Dark      Wet           2   \n",
       "1     2  Major Arterial  No Control      Clear  Dark      Wet           2   \n",
       "2     2  Major Arterial  No Control      Clear  Dark      Wet           2   \n",
       "3     2  Major Arterial  No Control      Clear  Dark      Wet           2   \n",
       "4     2  Major Arterial  No Control      Clear  Dark      Wet           2   \n",
       "\n",
       "   ROADCLASS_Label  TRAFFCTL_Label  VISIBILITY_Label  ...  Dry  Ice  \\\n",
       "0                4               0                 0  ...    0    0   \n",
       "1                4               0                 0  ...    0    0   \n",
       "2                4               0                 0  ...    0    0   \n",
       "3                4               0                 0  ...    0    0   \n",
       "4                4               0                 0  ...    0    0   \n",
       "\n",
       "   Loose Sand or Gravel  Loose Snow  Other  Packed Snow  Slush  \\\n",
       "0                     0           0      0            0      0   \n",
       "1                     0           0      0            0      0   \n",
       "2                     0           0      0            0      0   \n",
       "3                     0           0      0            0      0   \n",
       "4                     0           0      0            0      0   \n",
       "\n",
       "   Spilled liquid  Unknown  Wet  \n",
       "0               0        0    1  \n",
       "1               0        0    1  \n",
       "2               0        0    1  \n",
       "3               0        0    1  \n",
       "4               0        0    1  \n",
       "\n",
       "[5 rows x 86 columns]"
      ]
     },
     "execution_count": 18,
     "metadata": {},
     "output_type": "execute_result"
    }
   ],
   "source": [
    "# combine all dataframe (features) into one df\n",
    "X_all_features = pd.concat([X, HOUR_onehot_features, ROADCLASS_onehot_features,TRAFFCTL_onehot_features,VISIBILITY_onehot_features,\n",
    "                           LIGHT_onehot_features,RDSFCOND_onehot_features],axis=1)\n",
    "X_all_features.head()"
   ]
  },
  {
   "cell_type": "code",
   "execution_count": 19,
   "metadata": {},
   "outputs": [],
   "source": [
    "#X_all_features.to_csv(\"X_all_features.csv\")"
   ]
  },
  {
   "cell_type": "code",
   "execution_count": 20,
   "metadata": {},
   "outputs": [
    {
     "data": {
      "text/plain": [
       "Index([                  'HOUR',             'ROAD_CLASS',\n",
       "                     'TRAFFCTL',             'VISIBILITY',\n",
       "                        'LIGHT',               'RDSFCOND',\n",
       "                   'HOUR_Label',        'ROADCLASS_Label',\n",
       "               'TRAFFCTL_Label',       'VISIBILITY_Label',\n",
       "                  'LIGHT_Label',         'RDSFCOND_Label',\n",
       "                              0,                        1,\n",
       "                              2,                        3,\n",
       "                              4,                        5,\n",
       "                              6,                        7,\n",
       "                              8,                        9,\n",
       "                             10,                       11,\n",
       "                             12,                       13,\n",
       "                             14,                       15,\n",
       "                             16,                       17,\n",
       "                             18,                       19,\n",
       "                             20,                       21,\n",
       "                             22,                       23,\n",
       "                    'Collector',             'Expressway',\n",
       "                      'Laneway',                  'Local',\n",
       "               'Major Arterial',    'Major Arterial Ramp',\n",
       "               'Minor Arterial',                  'Other',\n",
       "                      'Pending',                'Unknown',\n",
       "                   'No Control',           'PXO - No Ped',\n",
       "         'Pedestrian Crossover',         'Police Control',\n",
       "                 'School Guard',              'Stop Sign',\n",
       "         'Streetcar (Stop for)',     'Traffic Controller',\n",
       "                 'Traffic Gate',         'Traffic Signal',\n",
       "                      'Unknown',             'Yield Sign',\n",
       "                        'Clear',          'Drifting Snow',\n",
       "       'Fog, Mist, Smoke, Dust',          'Freezing Rain',\n",
       "                        'Other',                   'Rain',\n",
       "                         'Snow',            'Strong wind',\n",
       "                      'Unknown',                   'Dark',\n",
       "             'Dark, artificial',                   'Dawn',\n",
       "             'Dawn, artificial',               'Daylight',\n",
       "         'Daylight, artificial',                   'Dusk',\n",
       "             'Dusk, artificial',                  'Other',\n",
       "                          'Dry',                    'Ice',\n",
       "         'Loose Sand or Gravel',             'Loose Snow',\n",
       "                        'Other',            'Packed Snow',\n",
       "                        'Slush',         'Spilled liquid',\n",
       "                      'Unknown',                    'Wet'],\n",
       "      dtype='object')"
      ]
     },
     "execution_count": 20,
     "metadata": {},
     "output_type": "execute_result"
    }
   ],
   "source": [
    "X_all_features.columns"
   ]
  },
  {
   "cell_type": "code",
   "execution_count": 21,
   "metadata": {},
   "outputs": [],
   "source": [
    "#second data cleaning job\n",
    "# drop categorical columns(features) and leave its numeric features. Others and Unknown also dropped\n",
    "\n",
    "X_all_features_cleaned = X_all_features.drop([\"Other\",\"Unknown\",\"HOUR\",\"HOUR_Label\",\"ROAD_CLASS\",\"TRAFFCTL\",\"VISIBILITY\",\n",
    "                                              \"LIGHT\",\"RDSFCOND\",'ROADCLASS_Label', 'TRAFFCTL_Label',\n",
    "                                              'VISIBILITY_Label','LIGHT_Label','RDSFCOND_Label'],axis=1)"
   ]
  },
  {
   "cell_type": "code",
   "execution_count": 22,
   "metadata": {},
   "outputs": [
    {
     "data": {
      "text/plain": [
       "Index([                       0,                        1,\n",
       "                              2,                        3,\n",
       "                              4,                        5,\n",
       "                              6,                        7,\n",
       "                              8,                        9,\n",
       "                             10,                       11,\n",
       "                             12,                       13,\n",
       "                             14,                       15,\n",
       "                             16,                       17,\n",
       "                             18,                       19,\n",
       "                             20,                       21,\n",
       "                             22,                       23,\n",
       "                    'Collector',             'Expressway',\n",
       "                      'Laneway',                  'Local',\n",
       "               'Major Arterial',    'Major Arterial Ramp',\n",
       "               'Minor Arterial',                'Pending',\n",
       "                   'No Control',           'PXO - No Ped',\n",
       "         'Pedestrian Crossover',         'Police Control',\n",
       "                 'School Guard',              'Stop Sign',\n",
       "         'Streetcar (Stop for)',     'Traffic Controller',\n",
       "                 'Traffic Gate',         'Traffic Signal',\n",
       "                   'Yield Sign',                  'Clear',\n",
       "                'Drifting Snow', 'Fog, Mist, Smoke, Dust',\n",
       "                'Freezing Rain',                   'Rain',\n",
       "                         'Snow',            'Strong wind',\n",
       "                         'Dark',       'Dark, artificial',\n",
       "                         'Dawn',       'Dawn, artificial',\n",
       "                     'Daylight',   'Daylight, artificial',\n",
       "                         'Dusk',       'Dusk, artificial',\n",
       "                          'Dry',                    'Ice',\n",
       "         'Loose Sand or Gravel',             'Loose Snow',\n",
       "                  'Packed Snow',                  'Slush',\n",
       "               'Spilled liquid',                    'Wet'],\n",
       "      dtype='object')"
      ]
     },
     "execution_count": 22,
     "metadata": {},
     "output_type": "execute_result"
    }
   ],
   "source": [
    "X_all_features_cleaned.columns "
   ]
  },
  {
   "cell_type": "code",
   "execution_count": 23,
   "metadata": {},
   "outputs": [
    {
     "name": "stdout",
     "output_type": "stream",
     "text": [
      "Number of features are : 66\n"
     ]
    }
   ],
   "source": [
    "print(f\"Number of features are : {len(X_all_features_cleaned.columns)}\") "
   ]
  },
  {
   "cell_type": "code",
   "execution_count": 24,
   "metadata": {},
   "outputs": [],
   "source": [
    "#X_all_features_cleaned.to_csv(\"X_all_features_cleaned.csv\" ) "
   ]
  },
  {
   "cell_type": "code",
   "execution_count": 25,
   "metadata": {},
   "outputs": [
    {
     "data": {
      "text/html": [
       "<div>\n",
       "<style scoped>\n",
       "    .dataframe tbody tr th:only-of-type {\n",
       "        vertical-align: middle;\n",
       "    }\n",
       "\n",
       "    .dataframe tbody tr th {\n",
       "        vertical-align: top;\n",
       "    }\n",
       "\n",
       "    .dataframe thead th {\n",
       "        text-align: right;\n",
       "    }\n",
       "</style>\n",
       "<table border=\"1\" class=\"dataframe\">\n",
       "  <thead>\n",
       "    <tr style=\"text-align: right;\">\n",
       "      <th></th>\n",
       "      <th>0</th>\n",
       "      <th>1</th>\n",
       "      <th>2</th>\n",
       "      <th>3</th>\n",
       "      <th>4</th>\n",
       "      <th>5</th>\n",
       "      <th>6</th>\n",
       "      <th>7</th>\n",
       "      <th>8</th>\n",
       "      <th>9</th>\n",
       "      <th>...</th>\n",
       "      <th>Dusk</th>\n",
       "      <th>Dusk, artificial</th>\n",
       "      <th>Dry</th>\n",
       "      <th>Ice</th>\n",
       "      <th>Loose Sand or Gravel</th>\n",
       "      <th>Loose Snow</th>\n",
       "      <th>Packed Snow</th>\n",
       "      <th>Slush</th>\n",
       "      <th>Spilled liquid</th>\n",
       "      <th>Wet</th>\n",
       "    </tr>\n",
       "  </thead>\n",
       "  <tbody>\n",
       "    <tr>\n",
       "      <th>0</th>\n",
       "      <td>0</td>\n",
       "      <td>0</td>\n",
       "      <td>1</td>\n",
       "      <td>0</td>\n",
       "      <td>0</td>\n",
       "      <td>0</td>\n",
       "      <td>0</td>\n",
       "      <td>0</td>\n",
       "      <td>0</td>\n",
       "      <td>0</td>\n",
       "      <td>...</td>\n",
       "      <td>0</td>\n",
       "      <td>0</td>\n",
       "      <td>0</td>\n",
       "      <td>0</td>\n",
       "      <td>0</td>\n",
       "      <td>0</td>\n",
       "      <td>0</td>\n",
       "      <td>0</td>\n",
       "      <td>0</td>\n",
       "      <td>1</td>\n",
       "    </tr>\n",
       "    <tr>\n",
       "      <th>1</th>\n",
       "      <td>0</td>\n",
       "      <td>0</td>\n",
       "      <td>1</td>\n",
       "      <td>0</td>\n",
       "      <td>0</td>\n",
       "      <td>0</td>\n",
       "      <td>0</td>\n",
       "      <td>0</td>\n",
       "      <td>0</td>\n",
       "      <td>0</td>\n",
       "      <td>...</td>\n",
       "      <td>0</td>\n",
       "      <td>0</td>\n",
       "      <td>0</td>\n",
       "      <td>0</td>\n",
       "      <td>0</td>\n",
       "      <td>0</td>\n",
       "      <td>0</td>\n",
       "      <td>0</td>\n",
       "      <td>0</td>\n",
       "      <td>1</td>\n",
       "    </tr>\n",
       "    <tr>\n",
       "      <th>2</th>\n",
       "      <td>0</td>\n",
       "      <td>0</td>\n",
       "      <td>1</td>\n",
       "      <td>0</td>\n",
       "      <td>0</td>\n",
       "      <td>0</td>\n",
       "      <td>0</td>\n",
       "      <td>0</td>\n",
       "      <td>0</td>\n",
       "      <td>0</td>\n",
       "      <td>...</td>\n",
       "      <td>0</td>\n",
       "      <td>0</td>\n",
       "      <td>0</td>\n",
       "      <td>0</td>\n",
       "      <td>0</td>\n",
       "      <td>0</td>\n",
       "      <td>0</td>\n",
       "      <td>0</td>\n",
       "      <td>0</td>\n",
       "      <td>1</td>\n",
       "    </tr>\n",
       "    <tr>\n",
       "      <th>3</th>\n",
       "      <td>0</td>\n",
       "      <td>0</td>\n",
       "      <td>1</td>\n",
       "      <td>0</td>\n",
       "      <td>0</td>\n",
       "      <td>0</td>\n",
       "      <td>0</td>\n",
       "      <td>0</td>\n",
       "      <td>0</td>\n",
       "      <td>0</td>\n",
       "      <td>...</td>\n",
       "      <td>0</td>\n",
       "      <td>0</td>\n",
       "      <td>0</td>\n",
       "      <td>0</td>\n",
       "      <td>0</td>\n",
       "      <td>0</td>\n",
       "      <td>0</td>\n",
       "      <td>0</td>\n",
       "      <td>0</td>\n",
       "      <td>1</td>\n",
       "    </tr>\n",
       "    <tr>\n",
       "      <th>4</th>\n",
       "      <td>0</td>\n",
       "      <td>0</td>\n",
       "      <td>1</td>\n",
       "      <td>0</td>\n",
       "      <td>0</td>\n",
       "      <td>0</td>\n",
       "      <td>0</td>\n",
       "      <td>0</td>\n",
       "      <td>0</td>\n",
       "      <td>0</td>\n",
       "      <td>...</td>\n",
       "      <td>0</td>\n",
       "      <td>0</td>\n",
       "      <td>0</td>\n",
       "      <td>0</td>\n",
       "      <td>0</td>\n",
       "      <td>0</td>\n",
       "      <td>0</td>\n",
       "      <td>0</td>\n",
       "      <td>0</td>\n",
       "      <td>1</td>\n",
       "    </tr>\n",
       "    <tr>\n",
       "      <th>...</th>\n",
       "      <td>...</td>\n",
       "      <td>...</td>\n",
       "      <td>...</td>\n",
       "      <td>...</td>\n",
       "      <td>...</td>\n",
       "      <td>...</td>\n",
       "      <td>...</td>\n",
       "      <td>...</td>\n",
       "      <td>...</td>\n",
       "      <td>...</td>\n",
       "      <td>...</td>\n",
       "      <td>...</td>\n",
       "      <td>...</td>\n",
       "      <td>...</td>\n",
       "      <td>...</td>\n",
       "      <td>...</td>\n",
       "      <td>...</td>\n",
       "      <td>...</td>\n",
       "      <td>...</td>\n",
       "      <td>...</td>\n",
       "      <td>...</td>\n",
       "    </tr>\n",
       "    <tr>\n",
       "      <th>16088</th>\n",
       "      <td>0</td>\n",
       "      <td>0</td>\n",
       "      <td>0</td>\n",
       "      <td>0</td>\n",
       "      <td>0</td>\n",
       "      <td>0</td>\n",
       "      <td>0</td>\n",
       "      <td>0</td>\n",
       "      <td>0</td>\n",
       "      <td>0</td>\n",
       "      <td>...</td>\n",
       "      <td>0</td>\n",
       "      <td>0</td>\n",
       "      <td>1</td>\n",
       "      <td>0</td>\n",
       "      <td>0</td>\n",
       "      <td>0</td>\n",
       "      <td>0</td>\n",
       "      <td>0</td>\n",
       "      <td>0</td>\n",
       "      <td>0</td>\n",
       "    </tr>\n",
       "    <tr>\n",
       "      <th>16089</th>\n",
       "      <td>0</td>\n",
       "      <td>0</td>\n",
       "      <td>0</td>\n",
       "      <td>0</td>\n",
       "      <td>0</td>\n",
       "      <td>0</td>\n",
       "      <td>0</td>\n",
       "      <td>0</td>\n",
       "      <td>0</td>\n",
       "      <td>0</td>\n",
       "      <td>...</td>\n",
       "      <td>0</td>\n",
       "      <td>0</td>\n",
       "      <td>1</td>\n",
       "      <td>0</td>\n",
       "      <td>0</td>\n",
       "      <td>0</td>\n",
       "      <td>0</td>\n",
       "      <td>0</td>\n",
       "      <td>0</td>\n",
       "      <td>0</td>\n",
       "    </tr>\n",
       "    <tr>\n",
       "      <th>16090</th>\n",
       "      <td>0</td>\n",
       "      <td>0</td>\n",
       "      <td>0</td>\n",
       "      <td>0</td>\n",
       "      <td>0</td>\n",
       "      <td>0</td>\n",
       "      <td>0</td>\n",
       "      <td>0</td>\n",
       "      <td>0</td>\n",
       "      <td>0</td>\n",
       "      <td>...</td>\n",
       "      <td>0</td>\n",
       "      <td>0</td>\n",
       "      <td>1</td>\n",
       "      <td>0</td>\n",
       "      <td>0</td>\n",
       "      <td>0</td>\n",
       "      <td>0</td>\n",
       "      <td>0</td>\n",
       "      <td>0</td>\n",
       "      <td>0</td>\n",
       "    </tr>\n",
       "    <tr>\n",
       "      <th>16091</th>\n",
       "      <td>0</td>\n",
       "      <td>0</td>\n",
       "      <td>0</td>\n",
       "      <td>0</td>\n",
       "      <td>0</td>\n",
       "      <td>0</td>\n",
       "      <td>0</td>\n",
       "      <td>0</td>\n",
       "      <td>0</td>\n",
       "      <td>0</td>\n",
       "      <td>...</td>\n",
       "      <td>0</td>\n",
       "      <td>0</td>\n",
       "      <td>1</td>\n",
       "      <td>0</td>\n",
       "      <td>0</td>\n",
       "      <td>0</td>\n",
       "      <td>0</td>\n",
       "      <td>0</td>\n",
       "      <td>0</td>\n",
       "      <td>0</td>\n",
       "    </tr>\n",
       "    <tr>\n",
       "      <th>16092</th>\n",
       "      <td>0</td>\n",
       "      <td>0</td>\n",
       "      <td>0</td>\n",
       "      <td>0</td>\n",
       "      <td>0</td>\n",
       "      <td>0</td>\n",
       "      <td>0</td>\n",
       "      <td>0</td>\n",
       "      <td>0</td>\n",
       "      <td>0</td>\n",
       "      <td>...</td>\n",
       "      <td>0</td>\n",
       "      <td>0</td>\n",
       "      <td>1</td>\n",
       "      <td>0</td>\n",
       "      <td>0</td>\n",
       "      <td>0</td>\n",
       "      <td>0</td>\n",
       "      <td>0</td>\n",
       "      <td>0</td>\n",
       "      <td>0</td>\n",
       "    </tr>\n",
       "  </tbody>\n",
       "</table>\n",
       "<p>16093 rows × 66 columns</p>\n",
       "</div>"
      ],
      "text/plain": [
       "       0  1  2  3  4  5  6  7  8  9  ...  Dusk  Dusk, artificial  Dry  Ice  \\\n",
       "0      0  0  1  0  0  0  0  0  0  0  ...     0                 0    0    0   \n",
       "1      0  0  1  0  0  0  0  0  0  0  ...     0                 0    0    0   \n",
       "2      0  0  1  0  0  0  0  0  0  0  ...     0                 0    0    0   \n",
       "3      0  0  1  0  0  0  0  0  0  0  ...     0                 0    0    0   \n",
       "4      0  0  1  0  0  0  0  0  0  0  ...     0                 0    0    0   \n",
       "...   .. .. .. .. .. .. .. .. .. ..  ...   ...               ...  ...  ...   \n",
       "16088  0  0  0  0  0  0  0  0  0  0  ...     0                 0    1    0   \n",
       "16089  0  0  0  0  0  0  0  0  0  0  ...     0                 0    1    0   \n",
       "16090  0  0  0  0  0  0  0  0  0  0  ...     0                 0    1    0   \n",
       "16091  0  0  0  0  0  0  0  0  0  0  ...     0                 0    1    0   \n",
       "16092  0  0  0  0  0  0  0  0  0  0  ...     0                 0    1    0   \n",
       "\n",
       "       Loose Sand or Gravel  Loose Snow  Packed Snow  Slush  Spilled liquid  \\\n",
       "0                         0           0            0      0               0   \n",
       "1                         0           0            0      0               0   \n",
       "2                         0           0            0      0               0   \n",
       "3                         0           0            0      0               0   \n",
       "4                         0           0            0      0               0   \n",
       "...                     ...         ...          ...    ...             ...   \n",
       "16088                     0           0            0      0               0   \n",
       "16089                     0           0            0      0               0   \n",
       "16090                     0           0            0      0               0   \n",
       "16091                     0           0            0      0               0   \n",
       "16092                     0           0            0      0               0   \n",
       "\n",
       "       Wet  \n",
       "0        1  \n",
       "1        1  \n",
       "2        1  \n",
       "3        1  \n",
       "4        1  \n",
       "...    ...  \n",
       "16088    0  \n",
       "16089    0  \n",
       "16090    0  \n",
       "16091    0  \n",
       "16092    0  \n",
       "\n",
       "[16093 rows x 66 columns]"
      ]
     },
     "execution_count": 25,
     "metadata": {},
     "output_type": "execute_result"
    }
   ],
   "source": [
    "X_all_features_cleaned"
   ]
  },
  {
   "cell_type": "code",
   "execution_count": 26,
   "metadata": {},
   "outputs": [],
   "source": [
    "X_features = X_all_features_cleaned"
   ]
  },
  {
   "cell_type": "code",
   "execution_count": 27,
   "metadata": {},
   "outputs": [
    {
     "name": "stdout",
     "output_type": "stream",
     "text": [
      "(16093, 66)\n",
      "(16093,)\n"
     ]
    }
   ],
   "source": [
    "print(X_features.shape)\n",
    "print(y.shape)"
   ]
  },
  {
   "cell_type": "markdown",
   "metadata": {},
   "source": [
    "### MODELING : Logistic Regression"
   ]
  },
  {
   "cell_type": "code",
   "execution_count": 28,
   "metadata": {},
   "outputs": [],
   "source": [
    "#Split our data into training and testing\n",
    "from sklearn.model_selection import train_test_split\n",
    "\n",
    "X_train, X_test, y_train, y_test = train_test_split(X_features, y, random_state=1)"
   ]
  },
  {
   "cell_type": "code",
   "execution_count": 29,
   "metadata": {},
   "outputs": [
    {
     "data": {
      "text/plain": [
       "LogisticRegression(C=5, class_weight=None, dual=False, fit_intercept=True,\n",
       "                   intercept_scaling=1, l1_ratio=None, max_iter=1000,\n",
       "                   multi_class='auto', n_jobs=None, penalty='l2',\n",
       "                   random_state=0, solver='lbfgs', tol=0.0001, verbose=0,\n",
       "                   warm_start=False)"
      ]
     },
     "execution_count": 29,
     "metadata": {},
     "output_type": "execute_result"
    }
   ],
   "source": [
    "from sklearn.linear_model import LogisticRegression\n",
    "Fatality_classifier = LogisticRegression(C=5, max_iter=1000,random_state=0)\n",
    "Fatality_classifier"
   ]
  },
  {
   "cell_type": "code",
   "execution_count": 30,
   "metadata": {},
   "outputs": [
    {
     "data": {
      "text/plain": [
       "LogisticRegression(C=5, class_weight=None, dual=False, fit_intercept=True,\n",
       "                   intercept_scaling=1, l1_ratio=None, max_iter=1000,\n",
       "                   multi_class='auto', n_jobs=None, penalty='l2',\n",
       "                   random_state=0, solver='lbfgs', tol=0.0001, verbose=0,\n",
       "                   warm_start=False)"
      ]
     },
     "execution_count": 30,
     "metadata": {},
     "output_type": "execute_result"
    }
   ],
   "source": [
    "#Fit train data to model\n",
    "Fatality_classifier.fit(X_train, y_train)"
   ]
  },
  {
   "cell_type": "code",
   "execution_count": 31,
   "metadata": {},
   "outputs": [
    {
     "name": "stdout",
     "output_type": "stream",
     "text": [
      "Training score (R-square) : 86.5192%\n",
      "Test score (R-square): 86.6799%\n"
     ]
    }
   ],
   "source": [
    "#Validate the model using the test data\n",
    "print(f\"Training score (R-square) : {round(Fatality_classifier.score(X_train, y_train)*100,4)}%\")\n",
    "print(f\"Test score (R-square): {round(Fatality_classifier.score(X_test, y_test)*100,4)}%\")"
   ]
  },
  {
   "cell_type": "markdown",
   "metadata": {},
   "source": [
    "Make predictions"
   ]
  },
  {
   "cell_type": "code",
   "execution_count": 32,
   "metadata": {},
   "outputs": [
    {
     "data": {
      "text/html": [
       "<div>\n",
       "<style scoped>\n",
       "    .dataframe tbody tr th:only-of-type {\n",
       "        vertical-align: middle;\n",
       "    }\n",
       "\n",
       "    .dataframe tbody tr th {\n",
       "        vertical-align: top;\n",
       "    }\n",
       "\n",
       "    .dataframe thead th {\n",
       "        text-align: right;\n",
       "    }\n",
       "</style>\n",
       "<table border=\"1\" class=\"dataframe\">\n",
       "  <thead>\n",
       "    <tr style=\"text-align: right;\">\n",
       "      <th></th>\n",
       "      <th>Prediction</th>\n",
       "      <th>Actual</th>\n",
       "    </tr>\n",
       "  </thead>\n",
       "  <tbody>\n",
       "    <tr>\n",
       "      <th>5633</th>\n",
       "      <td>Non-Fatal Injury</td>\n",
       "      <td>Non-Fatal Injury</td>\n",
       "    </tr>\n",
       "    <tr>\n",
       "      <th>3745</th>\n",
       "      <td>Non-Fatal Injury</td>\n",
       "      <td>Fatal</td>\n",
       "    </tr>\n",
       "    <tr>\n",
       "      <th>3497</th>\n",
       "      <td>Non-Fatal Injury</td>\n",
       "      <td>Non-Fatal Injury</td>\n",
       "    </tr>\n",
       "    <tr>\n",
       "      <th>2305</th>\n",
       "      <td>Non-Fatal Injury</td>\n",
       "      <td>Non-Fatal Injury</td>\n",
       "    </tr>\n",
       "    <tr>\n",
       "      <th>14492</th>\n",
       "      <td>Non-Fatal Injury</td>\n",
       "      <td>Fatal</td>\n",
       "    </tr>\n",
       "    <tr>\n",
       "      <th>...</th>\n",
       "      <td>...</td>\n",
       "      <td>...</td>\n",
       "    </tr>\n",
       "    <tr>\n",
       "      <th>13839</th>\n",
       "      <td>Non-Fatal Injury</td>\n",
       "      <td>Non-Fatal Injury</td>\n",
       "    </tr>\n",
       "    <tr>\n",
       "      <th>913</th>\n",
       "      <td>Non-Fatal Injury</td>\n",
       "      <td>Fatal</td>\n",
       "    </tr>\n",
       "    <tr>\n",
       "      <th>2588</th>\n",
       "      <td>Non-Fatal Injury</td>\n",
       "      <td>Non-Fatal Injury</td>\n",
       "    </tr>\n",
       "    <tr>\n",
       "      <th>3308</th>\n",
       "      <td>Non-Fatal Injury</td>\n",
       "      <td>Non-Fatal Injury</td>\n",
       "    </tr>\n",
       "    <tr>\n",
       "      <th>12966</th>\n",
       "      <td>Non-Fatal Injury</td>\n",
       "      <td>Non-Fatal Injury</td>\n",
       "    </tr>\n",
       "  </tbody>\n",
       "</table>\n",
       "<p>4024 rows × 2 columns</p>\n",
       "</div>"
      ],
      "text/plain": [
       "             Prediction            Actual\n",
       "5633   Non-Fatal Injury  Non-Fatal Injury\n",
       "3745   Non-Fatal Injury             Fatal\n",
       "3497   Non-Fatal Injury  Non-Fatal Injury\n",
       "2305   Non-Fatal Injury  Non-Fatal Injury\n",
       "14492  Non-Fatal Injury             Fatal\n",
       "...                 ...               ...\n",
       "13839  Non-Fatal Injury  Non-Fatal Injury\n",
       "913    Non-Fatal Injury             Fatal\n",
       "2588   Non-Fatal Injury  Non-Fatal Injury\n",
       "3308   Non-Fatal Injury  Non-Fatal Injury\n",
       "12966  Non-Fatal Injury  Non-Fatal Injury\n",
       "\n",
       "[4024 rows x 2 columns]"
      ]
     },
     "execution_count": 32,
     "metadata": {},
     "output_type": "execute_result"
    }
   ],
   "source": [
    "predictions = Fatality_classifier.predict(X_test)\n",
    "result_df=pd.DataFrame({\"Prediction\": predictions, \"Actual\": y_test})\n",
    "result_df"
   ]
  },
  {
   "cell_type": "code",
   "execution_count": 33,
   "metadata": {},
   "outputs": [],
   "source": [
    "result_df.to_csv(\"Prediction_results/prediction_result_LR.csv\" ) "
   ]
  },
  {
   "cell_type": "code",
   "execution_count": 34,
   "metadata": {},
   "outputs": [
    {
     "data": {
      "text/plain": [
       "Prediction    17\n",
       "Actual        17\n",
       "dtype: int64"
      ]
     },
     "execution_count": 34,
     "metadata": {},
     "output_type": "execute_result"
    }
   ],
   "source": [
    "result_df.loc[result_df[\"Prediction\"]==\"Fatal\"].count()"
   ]
  },
  {
   "cell_type": "code",
   "execution_count": 35,
   "metadata": {},
   "outputs": [
    {
     "data": {
      "text/html": [
       "<div>\n",
       "<style scoped>\n",
       "    .dataframe tbody tr th:only-of-type {\n",
       "        vertical-align: middle;\n",
       "    }\n",
       "\n",
       "    .dataframe tbody tr th {\n",
       "        vertical-align: top;\n",
       "    }\n",
       "\n",
       "    .dataframe thead th {\n",
       "        text-align: right;\n",
       "    }\n",
       "</style>\n",
       "<table border=\"1\" class=\"dataframe\">\n",
       "  <thead>\n",
       "    <tr style=\"text-align: right;\">\n",
       "      <th></th>\n",
       "      <th>Prediction</th>\n",
       "      <th>Actual</th>\n",
       "    </tr>\n",
       "  </thead>\n",
       "  <tbody>\n",
       "    <tr>\n",
       "      <th>7181</th>\n",
       "      <td>Fatal</td>\n",
       "      <td>Fatal</td>\n",
       "    </tr>\n",
       "    <tr>\n",
       "      <th>7182</th>\n",
       "      <td>Fatal</td>\n",
       "      <td>Fatal</td>\n",
       "    </tr>\n",
       "    <tr>\n",
       "      <th>8234</th>\n",
       "      <td>Fatal</td>\n",
       "      <td>Non-Fatal Injury</td>\n",
       "    </tr>\n",
       "    <tr>\n",
       "      <th>14888</th>\n",
       "      <td>Fatal</td>\n",
       "      <td>Fatal</td>\n",
       "    </tr>\n",
       "    <tr>\n",
       "      <th>16079</th>\n",
       "      <td>Fatal</td>\n",
       "      <td>Fatal</td>\n",
       "    </tr>\n",
       "    <tr>\n",
       "      <th>11493</th>\n",
       "      <td>Fatal</td>\n",
       "      <td>Non-Fatal Injury</td>\n",
       "    </tr>\n",
       "    <tr>\n",
       "      <th>15198</th>\n",
       "      <td>Fatal</td>\n",
       "      <td>Fatal</td>\n",
       "    </tr>\n",
       "    <tr>\n",
       "      <th>14902</th>\n",
       "      <td>Fatal</td>\n",
       "      <td>Fatal</td>\n",
       "    </tr>\n",
       "    <tr>\n",
       "      <th>5290</th>\n",
       "      <td>Fatal</td>\n",
       "      <td>Non-Fatal Injury</td>\n",
       "    </tr>\n",
       "    <tr>\n",
       "      <th>5289</th>\n",
       "      <td>Fatal</td>\n",
       "      <td>Non-Fatal Injury</td>\n",
       "    </tr>\n",
       "    <tr>\n",
       "      <th>16077</th>\n",
       "      <td>Fatal</td>\n",
       "      <td>Fatal</td>\n",
       "    </tr>\n",
       "    <tr>\n",
       "      <th>14944</th>\n",
       "      <td>Fatal</td>\n",
       "      <td>Fatal</td>\n",
       "    </tr>\n",
       "    <tr>\n",
       "      <th>15374</th>\n",
       "      <td>Fatal</td>\n",
       "      <td>Fatal</td>\n",
       "    </tr>\n",
       "    <tr>\n",
       "      <th>14312</th>\n",
       "      <td>Fatal</td>\n",
       "      <td>Fatal</td>\n",
       "    </tr>\n",
       "    <tr>\n",
       "      <th>14087</th>\n",
       "      <td>Fatal</td>\n",
       "      <td>Fatal</td>\n",
       "    </tr>\n",
       "    <tr>\n",
       "      <th>14905</th>\n",
       "      <td>Fatal</td>\n",
       "      <td>Fatal</td>\n",
       "    </tr>\n",
       "    <tr>\n",
       "      <th>14139</th>\n",
       "      <td>Fatal</td>\n",
       "      <td>Non-Fatal Injury</td>\n",
       "    </tr>\n",
       "  </tbody>\n",
       "</table>\n",
       "</div>"
      ],
      "text/plain": [
       "      Prediction            Actual\n",
       "7181       Fatal             Fatal\n",
       "7182       Fatal             Fatal\n",
       "8234       Fatal  Non-Fatal Injury\n",
       "14888      Fatal             Fatal\n",
       "16079      Fatal             Fatal\n",
       "11493      Fatal  Non-Fatal Injury\n",
       "15198      Fatal             Fatal\n",
       "14902      Fatal             Fatal\n",
       "5290       Fatal  Non-Fatal Injury\n",
       "5289       Fatal  Non-Fatal Injury\n",
       "16077      Fatal             Fatal\n",
       "14944      Fatal             Fatal\n",
       "15374      Fatal             Fatal\n",
       "14312      Fatal             Fatal\n",
       "14087      Fatal             Fatal\n",
       "14905      Fatal             Fatal\n",
       "14139      Fatal  Non-Fatal Injury"
      ]
     },
     "execution_count": 35,
     "metadata": {},
     "output_type": "execute_result"
    }
   ],
   "source": [
    "result_df.loc[result_df[\"Prediction\"]==\"Fatal\"]"
   ]
  },
  {
   "cell_type": "code",
   "execution_count": 36,
   "metadata": {
    "scrolled": true
   },
   "outputs": [
    {
     "name": "stdout",
     "output_type": "stream",
     "text": [
      "Logistic Regression ------------------------------------------\n",
      "                  precision    recall  f1-score   support\n",
      "\n",
      "           Fatal       0.71      0.02      0.04       543\n",
      "Non-Fatal Injury       0.87      1.00      0.93      3481\n",
      "\n",
      "        accuracy                           0.87      4024\n",
      "       macro avg       0.79      0.51      0.49      4024\n",
      "    weighted avg       0.85      0.87      0.81      4024\n",
      "\n"
     ]
    }
   ],
   "source": [
    "# Calculate classification report\n",
    "from sklearn.metrics import classification_report\n",
    "print(\"Logistic Regression ------------------------------------------\")\n",
    "print(classification_report(y_test, predictions,\n",
    "                            target_names=[\"Fatal\", \"Non-Fatal Injury\"]))"
   ]
  },
  {
   "cell_type": "markdown",
   "metadata": {},
   "source": [
    "Confusion matrix"
   ]
  },
  {
   "cell_type": "code",
   "execution_count": 37,
   "metadata": {},
   "outputs": [
    {
     "data": {
      "text/html": [
       "<div>\n",
       "<style scoped>\n",
       "    .dataframe tbody tr th:only-of-type {\n",
       "        vertical-align: middle;\n",
       "    }\n",
       "\n",
       "    .dataframe tbody tr th {\n",
       "        vertical-align: top;\n",
       "    }\n",
       "\n",
       "    .dataframe thead th {\n",
       "        text-align: right;\n",
       "    }\n",
       "</style>\n",
       "<table border=\"1\" class=\"dataframe\">\n",
       "  <thead>\n",
       "    <tr style=\"text-align: right;\">\n",
       "      <th></th>\n",
       "      <th>Prediction:Fatal</th>\n",
       "      <th>Prediction:Non-Fatal</th>\n",
       "    </tr>\n",
       "  </thead>\n",
       "  <tbody>\n",
       "    <tr>\n",
       "      <th>Actual:Fatal</th>\n",
       "      <td>12</td>\n",
       "      <td>531</td>\n",
       "    </tr>\n",
       "    <tr>\n",
       "      <th>Actual:Non-Fatal</th>\n",
       "      <td>5</td>\n",
       "      <td>3476</td>\n",
       "    </tr>\n",
       "  </tbody>\n",
       "</table>\n",
       "</div>"
      ],
      "text/plain": [
       "                  Prediction:Fatal  Prediction:Non-Fatal\n",
       "Actual:Fatal                    12                   531\n",
       "Actual:Non-Fatal                 5                  3476"
      ]
     },
     "execution_count": 37,
     "metadata": {},
     "output_type": "execute_result"
    }
   ],
   "source": [
    "from sklearn.metrics import confusion_matrix\n",
    "\n",
    "pd.DataFrame(\n",
    "    confusion_matrix(y_test, predictions),\n",
    "    columns=['Prediction:Fatal', 'Prediction:Non-Fatal'],\n",
    "    index=['Actual:Fatal', 'Actual:Non-Fatal']\n",
    ")"
   ]
  },
  {
   "cell_type": "code",
   "execution_count": 38,
   "metadata": {},
   "outputs": [],
   "source": [
    "#save model\n",
    "import pickle\n",
    "filename = 'LogisticRegression_model.pickle'\n",
    "pickle.dump(Fatality_classifier, open(filename, 'wb'))"
   ]
  },
  {
   "cell_type": "markdown",
   "metadata": {},
   "source": [
    "######## List for user to select  (maybe drop down menu ??  \"Other\" or \"Unknown\" is not for option)"
   ]
  },
  {
   "cell_type": "code",
   "execution_count": 39,
   "metadata": {},
   "outputs": [
    {
     "name": "stdout",
     "output_type": "stream",
     "text": [
      "Features are under the 6 categories: \n",
      "---------------------------------\n",
      "#1.HOUR:\n",
      " [0, 1, 2, 3, 4, 5, 6, 7, 8, 9, 10, 11, 12, 13, 14, 15, 16, 17, 18, 19, 20, 21, 22, 23]\n",
      "#2.ROAD CLASS:\n",
      "['Collector', 'Expressway', 'Laneway', 'Local', 'Major Arterial', 'Major Arterial Ramp', 'Minor Arterial', 'Other', 'Pending', 'Unknown']\n",
      "#3.Traffic Control:\n",
      "['No Control', 'PXO - No Ped', 'Pedestrian Crossover', 'Police Control', 'School Guard', 'Stop Sign', 'Streetcar (Stop for)', 'Traffic Controller', 'Traffic Gate', 'Traffic Signal', 'Unknown', 'Yield Sign']\n",
      "#4.Visibility:\n",
      "['Clear', 'Drifting Snow', 'Fog, Mist, Smoke, Dust', 'Freezing Rain', 'Other', 'Rain', 'Snow', 'Strong wind', 'Unknown']\n",
      "#5.Light:\n",
      "['Dark', 'Dark, artificial', 'Dawn', 'Dawn, artificial', 'Daylight', 'Daylight, artificial', 'Dusk', 'Dusk, artificial', 'Other']\n",
      "#6.Road Condition:\n",
      "['Dry', 'Ice', 'Loose Sand or Gravel', 'Loose Snow', 'Other', 'Packed Snow', 'Slush', 'Spilled liquid', 'Unknown', 'Wet']\n"
     ]
    }
   ],
   "source": [
    "HOUR_labels = list(HOUR_LE.classes_)\n",
    "ROADCLASS_labels = list(Road_class_LE.classes_)\n",
    "TRAFFCTL_labels = list(TRAFFCTL_LE.classes_)\n",
    "VISIBILITY_labels = list(VISIBILITY_LE.classes_)\n",
    "LIGHT_labels = list(LIGHT_LE.classes_)\n",
    "RDSFCOND_labels = list(RDSFCOND_LE.classes_)\n",
    "\n",
    "print(\"Features are under the 6 categories: \")\n",
    "print(\"---------------------------------\")\n",
    "print(f\"#1.HOUR:\\n {HOUR_labels}\") \n",
    "print(f\"#2.ROAD CLASS:\\n{ROADCLASS_labels}\") \n",
    "print(f\"#3.Traffic Control:\\n{TRAFFCTL_labels}\") \n",
    "print(f\"#4.Visibility:\\n{VISIBILITY_labels}\") \n",
    "print(f\"#5.Light:\\n{LIGHT_labels}\") \n",
    "print(f\"#6.Road Condition:\\n{RDSFCOND_labels}\") \n",
    "\n",
    "# User can select from the drop down menu except \"Other\", \"Unknown\"\n",
    "# if user select 11 for HOUR category, it means user drives or on the road b/t 11 ~ 12"
   ]
  },
  {
   "cell_type": "markdown",
   "metadata": {},
   "source": [
    "Model tuning"
   ]
  },
  {
   "cell_type": "code",
   "execution_count": 40,
   "metadata": {},
   "outputs": [],
   "source": [
    "# Create the GridSearchCV model\n",
    "from sklearn.model_selection import GridSearchCV\n",
    "# create parameter grid\n",
    "param_grid = {'C': [1, 5, 10],\n",
    "              'random_state': [0, 1, 20, 40],\n",
    "              'max_iter': [1000]}\n",
    "grid = GridSearchCV(Fatality_classifier, param_grid, verbose=3)"
   ]
  },
  {
   "cell_type": "code",
   "execution_count": null,
   "metadata": {},
   "outputs": [
    {
     "name": "stdout",
     "output_type": "stream",
     "text": [
      "Fitting 5 folds for each of 12 candidates, totalling 60 fits\n",
      "[CV] C=1, max_iter=1000, random_state=0 ..............................\n"
     ]
    },
    {
     "name": "stderr",
     "output_type": "stream",
     "text": [
      "[Parallel(n_jobs=1)]: Using backend SequentialBackend with 1 concurrent workers.\n"
     ]
    },
    {
     "name": "stdout",
     "output_type": "stream",
     "text": [
      "[CV] .. C=1, max_iter=1000, random_state=0, score=0.863, total=   0.6s\n",
      "[CV] C=1, max_iter=1000, random_state=0 ..............................\n"
     ]
    },
    {
     "name": "stderr",
     "output_type": "stream",
     "text": [
      "[Parallel(n_jobs=1)]: Done   1 out of   1 | elapsed:    0.5s remaining:    0.0s\n"
     ]
    },
    {
     "name": "stdout",
     "output_type": "stream",
     "text": [
      "[CV] .. C=1, max_iter=1000, random_state=0, score=0.865, total=   0.7s\n",
      "[CV] C=1, max_iter=1000, random_state=0 ..............................\n"
     ]
    },
    {
     "name": "stderr",
     "output_type": "stream",
     "text": [
      "[Parallel(n_jobs=1)]: Done   2 out of   2 | elapsed:    1.2s remaining:    0.0s\n"
     ]
    },
    {
     "name": "stdout",
     "output_type": "stream",
     "text": [
      "[CV] .. C=1, max_iter=1000, random_state=0, score=0.865, total=   0.7s\n",
      "[CV] C=1, max_iter=1000, random_state=0 ..............................\n",
      "[CV] .. C=1, max_iter=1000, random_state=0, score=0.865, total=   0.6s\n",
      "[CV] C=1, max_iter=1000, random_state=0 ..............................\n",
      "[CV] .. C=1, max_iter=1000, random_state=0, score=0.867, total=   0.5s\n",
      "[CV] C=1, max_iter=1000, random_state=1 ..............................\n",
      "[CV] .. C=1, max_iter=1000, random_state=1, score=0.863, total=   0.6s\n",
      "[CV] C=1, max_iter=1000, random_state=1 ..............................\n",
      "[CV] .. C=1, max_iter=1000, random_state=1, score=0.865, total=   0.6s\n",
      "[CV] C=1, max_iter=1000, random_state=1 ..............................\n",
      "[CV] .. C=1, max_iter=1000, random_state=1, score=0.865, total=   0.7s\n",
      "[CV] C=1, max_iter=1000, random_state=1 ..............................\n",
      "[CV] .. C=1, max_iter=1000, random_state=1, score=0.865, total=   0.6s\n",
      "[CV] C=1, max_iter=1000, random_state=1 ..............................\n",
      "[CV] .. C=1, max_iter=1000, random_state=1, score=0.867, total=   0.6s\n",
      "[CV] C=1, max_iter=1000, random_state=20 .............................\n",
      "[CV] . C=1, max_iter=1000, random_state=20, score=0.863, total=   0.6s\n",
      "[CV] C=1, max_iter=1000, random_state=20 .............................\n",
      "[CV] . C=1, max_iter=1000, random_state=20, score=0.865, total=   0.7s\n",
      "[CV] C=1, max_iter=1000, random_state=20 .............................\n",
      "[CV] . C=1, max_iter=1000, random_state=20, score=0.865, total=   0.7s\n",
      "[CV] C=1, max_iter=1000, random_state=20 .............................\n",
      "[CV] . C=1, max_iter=1000, random_state=20, score=0.865, total=   0.6s\n",
      "[CV] C=1, max_iter=1000, random_state=20 .............................\n",
      "[CV] . C=1, max_iter=1000, random_state=20, score=0.867, total=   0.6s\n",
      "[CV] C=1, max_iter=1000, random_state=40 .............................\n",
      "[CV] . C=1, max_iter=1000, random_state=40, score=0.863, total=   0.6s\n",
      "[CV] C=1, max_iter=1000, random_state=40 .............................\n",
      "[CV] . C=1, max_iter=1000, random_state=40, score=0.865, total=   0.7s\n",
      "[CV] C=1, max_iter=1000, random_state=40 .............................\n",
      "[CV] . C=1, max_iter=1000, random_state=40, score=0.865, total=   0.7s\n",
      "[CV] C=1, max_iter=1000, random_state=40 .............................\n",
      "[CV] . C=1, max_iter=1000, random_state=40, score=0.865, total=   0.6s\n",
      "[CV] C=1, max_iter=1000, random_state=40 .............................\n",
      "[CV] . C=1, max_iter=1000, random_state=40, score=0.867, total=   0.6s\n",
      "[CV] C=5, max_iter=1000, random_state=0 ..............................\n",
      "[CV] .. C=5, max_iter=1000, random_state=0, score=0.865, total=   1.2s\n",
      "[CV] C=5, max_iter=1000, random_state=0 ..............................\n"
     ]
    }
   ],
   "source": [
    "# Train the model with GridSearch\n",
    "grid.fit(X_train, y_train)\n",
    "print(grid.best_params_)\n",
    "print(grid.best_score_)"
   ]
  },
  {
   "cell_type": "code",
   "execution_count": null,
   "metadata": {},
   "outputs": [],
   "source": [
    "print(grid.best_params_)\n",
    "print(grid.best_score_)"
   ]
  },
  {
   "cell_type": "code",
   "execution_count": null,
   "metadata": {},
   "outputs": [],
   "source": []
  }
 ],
 "metadata": {
  "kernelspec": {
   "display_name": "Python 3",
   "language": "python",
   "name": "python3"
  },
  "language_info": {
   "codemirror_mode": {
    "name": "ipython",
    "version": 3
   },
   "file_extension": ".py",
   "mimetype": "text/x-python",
   "name": "python",
   "nbconvert_exporter": "python",
   "pygments_lexer": "ipython3",
   "version": "3.7.6"
  },
  "toc": {
   "base_numbering": 1,
   "nav_menu": {},
   "number_sections": true,
   "sideBar": true,
   "skip_h1_title": false,
   "title_cell": "Table of Contents",
   "title_sidebar": "Contents",
   "toc_cell": false,
   "toc_position": {},
   "toc_section_display": true,
   "toc_window_display": false
  }
 },
 "nbformat": 4,
 "nbformat_minor": 4
}
