{
 "cells": [
  {
   "cell_type": "markdown",
   "metadata": {},
   "source": [
    "########### ML_model_DecisionTrees ####################"
   ]
  },
  {
   "cell_type": "code",
   "execution_count": 1,
   "metadata": {},
   "outputs": [],
   "source": [
    "# Update sklearn to prevent version mismatches\n",
    "#!pip install sklearn --upgrade"
   ]
  },
  {
   "cell_type": "markdown",
   "metadata": {},
   "source": [
    "### Data preparation "
   ]
  },
  {
   "cell_type": "code",
   "execution_count": 2,
   "metadata": {},
   "outputs": [],
   "source": [
    "import pandas as pd\n",
    "import numpy as np\n",
    "import os"
   ]
  },
  {
   "cell_type": "code",
   "execution_count": 3,
   "metadata": {},
   "outputs": [
    {
     "data": {
      "text/html": [
       "<div>\n",
       "<style scoped>\n",
       "    .dataframe tbody tr th:only-of-type {\n",
       "        vertical-align: middle;\n",
       "    }\n",
       "\n",
       "    .dataframe tbody tr th {\n",
       "        vertical-align: top;\n",
       "    }\n",
       "\n",
       "    .dataframe thead th {\n",
       "        text-align: right;\n",
       "    }\n",
       "</style>\n",
       "<table border=\"1\" class=\"dataframe\">\n",
       "  <thead>\n",
       "    <tr style=\"text-align: right;\">\n",
       "      <th></th>\n",
       "      <th>ACCNUM</th>\n",
       "      <th>DATE</th>\n",
       "      <th>TIME</th>\n",
       "      <th>HOUR</th>\n",
       "      <th>STREET1</th>\n",
       "      <th>STREET2</th>\n",
       "      <th>ROAD_CLASS</th>\n",
       "      <th>LATITUDE</th>\n",
       "      <th>LONGITUDE</th>\n",
       "      <th>LOCCOORD</th>\n",
       "      <th>...</th>\n",
       "      <th>TRUCK</th>\n",
       "      <th>TRSN_CITY_VEH</th>\n",
       "      <th>EMERG_VEH</th>\n",
       "      <th>SPEEDING</th>\n",
       "      <th>AG_DRIV</th>\n",
       "      <th>REDLIGHT</th>\n",
       "      <th>ALCOHOL</th>\n",
       "      <th>DISABILITY</th>\n",
       "      <th>Hood_ID</th>\n",
       "      <th>Neighbourhood</th>\n",
       "    </tr>\n",
       "  </thead>\n",
       "  <tbody>\n",
       "    <tr>\n",
       "      <th>0</th>\n",
       "      <td>893184</td>\n",
       "      <td>2006/01/01 05:00:00+00</td>\n",
       "      <td>236</td>\n",
       "      <td>2</td>\n",
       "      <td>WOODBINE AVE</td>\n",
       "      <td>O CONNOR DR</td>\n",
       "      <td>Major Arterial</td>\n",
       "      <td>43.699595</td>\n",
       "      <td>-79.318797</td>\n",
       "      <td>Intersection</td>\n",
       "      <td>...</td>\n",
       "      <td>No</td>\n",
       "      <td>No</td>\n",
       "      <td>No</td>\n",
       "      <td>Yes</td>\n",
       "      <td>Yes</td>\n",
       "      <td>No</td>\n",
       "      <td>Yes</td>\n",
       "      <td>No</td>\n",
       "      <td>60</td>\n",
       "      <td>Woodbine-Lumsden (60)</td>\n",
       "    </tr>\n",
       "    <tr>\n",
       "      <th>1</th>\n",
       "      <td>893184</td>\n",
       "      <td>2006/01/01 05:00:00+00</td>\n",
       "      <td>236</td>\n",
       "      <td>2</td>\n",
       "      <td>WOODBINE AVE</td>\n",
       "      <td>O CONNOR DR</td>\n",
       "      <td>Major Arterial</td>\n",
       "      <td>43.699595</td>\n",
       "      <td>-79.318797</td>\n",
       "      <td>Intersection</td>\n",
       "      <td>...</td>\n",
       "      <td>No</td>\n",
       "      <td>No</td>\n",
       "      <td>No</td>\n",
       "      <td>Yes</td>\n",
       "      <td>Yes</td>\n",
       "      <td>No</td>\n",
       "      <td>Yes</td>\n",
       "      <td>No</td>\n",
       "      <td>60</td>\n",
       "      <td>Woodbine-Lumsden (60)</td>\n",
       "    </tr>\n",
       "    <tr>\n",
       "      <th>2</th>\n",
       "      <td>893184</td>\n",
       "      <td>2006/01/01 05:00:00+00</td>\n",
       "      <td>236</td>\n",
       "      <td>2</td>\n",
       "      <td>WOODBINE AVE</td>\n",
       "      <td>O CONNOR DR</td>\n",
       "      <td>Major Arterial</td>\n",
       "      <td>43.699595</td>\n",
       "      <td>-79.318797</td>\n",
       "      <td>Intersection</td>\n",
       "      <td>...</td>\n",
       "      <td>No</td>\n",
       "      <td>No</td>\n",
       "      <td>No</td>\n",
       "      <td>Yes</td>\n",
       "      <td>Yes</td>\n",
       "      <td>No</td>\n",
       "      <td>Yes</td>\n",
       "      <td>No</td>\n",
       "      <td>60</td>\n",
       "      <td>Woodbine-Lumsden (60)</td>\n",
       "    </tr>\n",
       "    <tr>\n",
       "      <th>3</th>\n",
       "      <td>893184</td>\n",
       "      <td>2006/01/01 05:00:00+00</td>\n",
       "      <td>236</td>\n",
       "      <td>2</td>\n",
       "      <td>WOODBINE AVE</td>\n",
       "      <td>O CONNOR DR</td>\n",
       "      <td>Major Arterial</td>\n",
       "      <td>43.699595</td>\n",
       "      <td>-79.318797</td>\n",
       "      <td>Intersection</td>\n",
       "      <td>...</td>\n",
       "      <td>No</td>\n",
       "      <td>No</td>\n",
       "      <td>No</td>\n",
       "      <td>Yes</td>\n",
       "      <td>Yes</td>\n",
       "      <td>No</td>\n",
       "      <td>Yes</td>\n",
       "      <td>No</td>\n",
       "      <td>60</td>\n",
       "      <td>Woodbine-Lumsden (60)</td>\n",
       "    </tr>\n",
       "    <tr>\n",
       "      <th>4</th>\n",
       "      <td>893184</td>\n",
       "      <td>2006/01/01 05:00:00+00</td>\n",
       "      <td>236</td>\n",
       "      <td>2</td>\n",
       "      <td>WOODBINE AVE</td>\n",
       "      <td>O CONNOR DR</td>\n",
       "      <td>Major Arterial</td>\n",
       "      <td>43.699595</td>\n",
       "      <td>-79.318797</td>\n",
       "      <td>Intersection</td>\n",
       "      <td>...</td>\n",
       "      <td>No</td>\n",
       "      <td>No</td>\n",
       "      <td>No</td>\n",
       "      <td>Yes</td>\n",
       "      <td>Yes</td>\n",
       "      <td>No</td>\n",
       "      <td>Yes</td>\n",
       "      <td>No</td>\n",
       "      <td>60</td>\n",
       "      <td>Woodbine-Lumsden (60)</td>\n",
       "    </tr>\n",
       "  </tbody>\n",
       "</table>\n",
       "<p>5 rows × 36 columns</p>\n",
       "</div>"
      ],
      "text/plain": [
       "   ACCNUM                    DATE  TIME  HOUR       STREET1      STREET2  \\\n",
       "0  893184  2006/01/01 05:00:00+00   236     2  WOODBINE AVE  O CONNOR DR   \n",
       "1  893184  2006/01/01 05:00:00+00   236     2  WOODBINE AVE  O CONNOR DR   \n",
       "2  893184  2006/01/01 05:00:00+00   236     2  WOODBINE AVE  O CONNOR DR   \n",
       "3  893184  2006/01/01 05:00:00+00   236     2  WOODBINE AVE  O CONNOR DR   \n",
       "4  893184  2006/01/01 05:00:00+00   236     2  WOODBINE AVE  O CONNOR DR   \n",
       "\n",
       "       ROAD_CLASS   LATITUDE  LONGITUDE      LOCCOORD  ... TRUCK  \\\n",
       "0  Major Arterial  43.699595 -79.318797  Intersection  ...    No   \n",
       "1  Major Arterial  43.699595 -79.318797  Intersection  ...    No   \n",
       "2  Major Arterial  43.699595 -79.318797  Intersection  ...    No   \n",
       "3  Major Arterial  43.699595 -79.318797  Intersection  ...    No   \n",
       "4  Major Arterial  43.699595 -79.318797  Intersection  ...    No   \n",
       "\n",
       "  TRSN_CITY_VEH EMERG_VEH SPEEDING AG_DRIV REDLIGHT ALCOHOL DISABILITY  \\\n",
       "0            No        No      Yes     Yes       No     Yes         No   \n",
       "1            No        No      Yes     Yes       No     Yes         No   \n",
       "2            No        No      Yes     Yes       No     Yes         No   \n",
       "3            No        No      Yes     Yes       No     Yes         No   \n",
       "4            No        No      Yes     Yes       No     Yes         No   \n",
       "\n",
       "  Hood_ID          Neighbourhood  \n",
       "0      60  Woodbine-Lumsden (60)  \n",
       "1      60  Woodbine-Lumsden (60)  \n",
       "2      60  Woodbine-Lumsden (60)  \n",
       "3      60  Woodbine-Lumsden (60)  \n",
       "4      60  Woodbine-Lumsden (60)  \n",
       "\n",
       "[5 rows x 36 columns]"
      ]
     },
     "execution_count": 3,
     "metadata": {},
     "output_type": "execute_result"
    }
   ],
   "source": [
    "# Read data\n",
    "df = pd.read_csv(\"../Data/ksi_cleaned.csv\")\n",
    "df.head()"
   ]
  },
  {
   "cell_type": "code",
   "execution_count": 4,
   "metadata": {},
   "outputs": [
    {
     "data": {
      "text/plain": [
       "Index(['ACCNUM', 'DATE', 'TIME', 'HOUR', 'STREET1', 'STREET2', 'ROAD_CLASS',\n",
       "       'LATITUDE', 'LONGITUDE', 'LOCCOORD', 'TRAFFCTL', 'VISIBILITY', 'LIGHT',\n",
       "       'RDSFCOND', 'ACCLASS', 'INVTYPE', 'INVAGE', 'Age_mid', 'INJURY',\n",
       "       'VEHTYPE', 'DRIVACT', 'DRIVCOND', 'PEDESTRIAN', 'CYCLIST', 'AUTOMOBILE',\n",
       "       'MOTORCYCLE', 'TRUCK', 'TRSN_CITY_VEH', 'EMERG_VEH', 'SPEEDING',\n",
       "       'AG_DRIV', 'REDLIGHT', 'ALCOHOL', 'DISABILITY', 'Hood_ID',\n",
       "       'Neighbourhood'],\n",
       "      dtype='object')"
      ]
     },
     "execution_count": 4,
     "metadata": {},
     "output_type": "execute_result"
    }
   ],
   "source": [
    "df.columns"
   ]
  },
  {
   "cell_type": "code",
   "execution_count": 5,
   "metadata": {},
   "outputs": [
    {
     "name": "stdout",
     "output_type": "stream",
     "text": [
      "(16093, 6) (16093,)\n"
     ]
    }
   ],
   "source": [
    "# Select features then Assign X (data) and y (target)\n",
    "X = df[[\"HOUR\", \"ROAD_CLASS\" , \"TRAFFCTL\", \"VISIBILITY\", \"LIGHT\", \"RDSFCOND\"]]\n",
    "y = df[\"ACCLASS\"]\n",
    "print(X.shape, y.shape)"
   ]
  },
  {
   "cell_type": "code",
   "execution_count": 6,
   "metadata": {},
   "outputs": [
    {
     "data": {
      "text/plain": [
       "Index(['HOUR', 'ROAD_CLASS', 'TRAFFCTL', 'VISIBILITY', 'LIGHT', 'RDSFCOND'], dtype='object')"
      ]
     },
     "execution_count": 6,
     "metadata": {},
     "output_type": "execute_result"
    }
   ],
   "source": [
    "#features : 6 categorical value\n",
    "X.columns "
   ]
  },
  {
   "cell_type": "markdown",
   "metadata": {},
   "source": [
    "### Preprocessing"
   ]
  },
  {
   "cell_type": "markdown",
   "metadata": {},
   "source": [
    "Transform to numeric representation and add as a new columns"
   ]
  },
  {
   "cell_type": "code",
   "execution_count": 7,
   "metadata": {},
   "outputs": [
    {
     "name": "stderr",
     "output_type": "stream",
     "text": [
      "C:\\Users\\JJ\\anaconda3\\lib\\site-packages\\ipykernel_launcher.py:6: SettingWithCopyWarning: \n",
      "A value is trying to be set on a copy of a slice from a DataFrame.\n",
      "Try using .loc[row_indexer,col_indexer] = value instead\n",
      "\n",
      "See the caveats in the documentation: https://pandas.pydata.org/pandas-docs/stable/user_guide/indexing.html#returning-a-view-versus-a-copy\n",
      "  \n",
      "C:\\Users\\JJ\\anaconda3\\lib\\site-packages\\ipykernel_launcher.py:11: SettingWithCopyWarning: \n",
      "A value is trying to be set on a copy of a slice from a DataFrame.\n",
      "Try using .loc[row_indexer,col_indexer] = value instead\n",
      "\n",
      "See the caveats in the documentation: https://pandas.pydata.org/pandas-docs/stable/user_guide/indexing.html#returning-a-view-versus-a-copy\n",
      "  # This is added back by InteractiveShellApp.init_path()\n",
      "C:\\Users\\JJ\\anaconda3\\lib\\site-packages\\ipykernel_launcher.py:16: SettingWithCopyWarning: \n",
      "A value is trying to be set on a copy of a slice from a DataFrame.\n",
      "Try using .loc[row_indexer,col_indexer] = value instead\n",
      "\n",
      "See the caveats in the documentation: https://pandas.pydata.org/pandas-docs/stable/user_guide/indexing.html#returning-a-view-versus-a-copy\n",
      "  app.launch_new_instance()\n",
      "C:\\Users\\JJ\\anaconda3\\lib\\site-packages\\ipykernel_launcher.py:21: SettingWithCopyWarning: \n",
      "A value is trying to be set on a copy of a slice from a DataFrame.\n",
      "Try using .loc[row_indexer,col_indexer] = value instead\n",
      "\n",
      "See the caveats in the documentation: https://pandas.pydata.org/pandas-docs/stable/user_guide/indexing.html#returning-a-view-versus-a-copy\n",
      "C:\\Users\\JJ\\anaconda3\\lib\\site-packages\\ipykernel_launcher.py:26: SettingWithCopyWarning: \n",
      "A value is trying to be set on a copy of a slice from a DataFrame.\n",
      "Try using .loc[row_indexer,col_indexer] = value instead\n",
      "\n",
      "See the caveats in the documentation: https://pandas.pydata.org/pandas-docs/stable/user_guide/indexing.html#returning-a-view-versus-a-copy\n",
      "C:\\Users\\JJ\\anaconda3\\lib\\site-packages\\ipykernel_launcher.py:31: SettingWithCopyWarning: \n",
      "A value is trying to be set on a copy of a slice from a DataFrame.\n",
      "Try using .loc[row_indexer,col_indexer] = value instead\n",
      "\n",
      "See the caveats in the documentation: https://pandas.pydata.org/pandas-docs/stable/user_guide/indexing.html#returning-a-view-versus-a-copy\n"
     ]
    },
    {
     "data": {
      "text/html": [
       "<div>\n",
       "<style scoped>\n",
       "    .dataframe tbody tr th:only-of-type {\n",
       "        vertical-align: middle;\n",
       "    }\n",
       "\n",
       "    .dataframe tbody tr th {\n",
       "        vertical-align: top;\n",
       "    }\n",
       "\n",
       "    .dataframe thead th {\n",
       "        text-align: right;\n",
       "    }\n",
       "</style>\n",
       "<table border=\"1\" class=\"dataframe\">\n",
       "  <thead>\n",
       "    <tr style=\"text-align: right;\">\n",
       "      <th></th>\n",
       "      <th>HOUR</th>\n",
       "      <th>ROAD_CLASS</th>\n",
       "      <th>TRAFFCTL</th>\n",
       "      <th>VISIBILITY</th>\n",
       "      <th>LIGHT</th>\n",
       "      <th>RDSFCOND</th>\n",
       "      <th>HOUR_Label</th>\n",
       "      <th>ROADCLASS_Label</th>\n",
       "      <th>TRAFFCTL_Label</th>\n",
       "      <th>VISIBILITY_Label</th>\n",
       "      <th>LIGHT_Label</th>\n",
       "      <th>RDSFCOND_Label</th>\n",
       "    </tr>\n",
       "  </thead>\n",
       "  <tbody>\n",
       "    <tr>\n",
       "      <th>0</th>\n",
       "      <td>2</td>\n",
       "      <td>Major Arterial</td>\n",
       "      <td>No Control</td>\n",
       "      <td>Clear</td>\n",
       "      <td>Dark</td>\n",
       "      <td>Wet</td>\n",
       "      <td>2</td>\n",
       "      <td>4</td>\n",
       "      <td>0</td>\n",
       "      <td>0</td>\n",
       "      <td>0</td>\n",
       "      <td>9</td>\n",
       "    </tr>\n",
       "    <tr>\n",
       "      <th>1</th>\n",
       "      <td>2</td>\n",
       "      <td>Major Arterial</td>\n",
       "      <td>No Control</td>\n",
       "      <td>Clear</td>\n",
       "      <td>Dark</td>\n",
       "      <td>Wet</td>\n",
       "      <td>2</td>\n",
       "      <td>4</td>\n",
       "      <td>0</td>\n",
       "      <td>0</td>\n",
       "      <td>0</td>\n",
       "      <td>9</td>\n",
       "    </tr>\n",
       "    <tr>\n",
       "      <th>2</th>\n",
       "      <td>2</td>\n",
       "      <td>Major Arterial</td>\n",
       "      <td>No Control</td>\n",
       "      <td>Clear</td>\n",
       "      <td>Dark</td>\n",
       "      <td>Wet</td>\n",
       "      <td>2</td>\n",
       "      <td>4</td>\n",
       "      <td>0</td>\n",
       "      <td>0</td>\n",
       "      <td>0</td>\n",
       "      <td>9</td>\n",
       "    </tr>\n",
       "    <tr>\n",
       "      <th>3</th>\n",
       "      <td>2</td>\n",
       "      <td>Major Arterial</td>\n",
       "      <td>No Control</td>\n",
       "      <td>Clear</td>\n",
       "      <td>Dark</td>\n",
       "      <td>Wet</td>\n",
       "      <td>2</td>\n",
       "      <td>4</td>\n",
       "      <td>0</td>\n",
       "      <td>0</td>\n",
       "      <td>0</td>\n",
       "      <td>9</td>\n",
       "    </tr>\n",
       "    <tr>\n",
       "      <th>4</th>\n",
       "      <td>2</td>\n",
       "      <td>Major Arterial</td>\n",
       "      <td>No Control</td>\n",
       "      <td>Clear</td>\n",
       "      <td>Dark</td>\n",
       "      <td>Wet</td>\n",
       "      <td>2</td>\n",
       "      <td>4</td>\n",
       "      <td>0</td>\n",
       "      <td>0</td>\n",
       "      <td>0</td>\n",
       "      <td>9</td>\n",
       "    </tr>\n",
       "  </tbody>\n",
       "</table>\n",
       "</div>"
      ],
      "text/plain": [
       "   HOUR      ROAD_CLASS    TRAFFCTL VISIBILITY LIGHT RDSFCOND  HOUR_Label  \\\n",
       "0     2  Major Arterial  No Control      Clear  Dark      Wet           2   \n",
       "1     2  Major Arterial  No Control      Clear  Dark      Wet           2   \n",
       "2     2  Major Arterial  No Control      Clear  Dark      Wet           2   \n",
       "3     2  Major Arterial  No Control      Clear  Dark      Wet           2   \n",
       "4     2  Major Arterial  No Control      Clear  Dark      Wet           2   \n",
       "\n",
       "   ROADCLASS_Label  TRAFFCTL_Label  VISIBILITY_Label  LIGHT_Label  \\\n",
       "0                4               0                 0            0   \n",
       "1                4               0                 0            0   \n",
       "2                4               0                 0            0   \n",
       "3                4               0                 0            0   \n",
       "4                4               0                 0            0   \n",
       "\n",
       "   RDSFCOND_Label  \n",
       "0               9  \n",
       "1               9  \n",
       "2               9  \n",
       "3               9  \n",
       "4               9  "
      ]
     },
     "execution_count": 7,
     "metadata": {},
     "output_type": "execute_result"
    }
   ],
   "source": [
    "from sklearn.preprocessing import LabelEncoder,OneHotEncoder\n",
    "\n",
    "#0. HOUR\n",
    "HOUR_LE = LabelEncoder()\n",
    "HOUR_labels = HOUR_LE.fit_transform(X.HOUR)\n",
    "X[\"HOUR_Label\"]= HOUR_labels\n",
    "\n",
    "#1.'ROAD_CLASS'\n",
    "Road_class_LE = LabelEncoder()\n",
    "Road_class_labels = Road_class_LE.fit_transform(X.ROAD_CLASS)\n",
    "X[\"ROADCLASS_Label\"]=Road_class_labels\n",
    "\n",
    "#2.'TRAFFCTL'\n",
    "TRAFFCTL_LE = LabelEncoder()\n",
    "TRAFFCTL_labels = TRAFFCTL_LE.fit_transform(X.TRAFFCTL)\n",
    "X[\"TRAFFCTL_Label\"]=TRAFFCTL_labels\n",
    "\n",
    "#3.'VISIBILITY'\n",
    "VISIBILITY_LE = LabelEncoder()\n",
    "VISIBILITY_labels = VISIBILITY_LE.fit_transform(X.VISIBILITY)\n",
    "X[\"VISIBILITY_Label\"]=VISIBILITY_labels\n",
    "\n",
    "#4.'LIGHT'\n",
    "LIGHT_LE = LabelEncoder()\n",
    "LIGHT_labels = LIGHT_LE.fit_transform(X.LIGHT)\n",
    "X[\"LIGHT_Label\"]=LIGHT_labels\n",
    "\n",
    "#5.'RDSFCOND'\n",
    "RDSFCOND_LE = LabelEncoder()\n",
    "RDSFCOND_labels = RDSFCOND_LE.fit_transform(X.RDSFCOND)\n",
    "X[\"RDSFCOND_Label\"]=RDSFCOND_labels\n",
    "\n",
    "X.head()"
   ]
  },
  {
   "cell_type": "code",
   "execution_count": 8,
   "metadata": {},
   "outputs": [],
   "source": [
    "#X.to_csv(\"X_label_encoded.csv\")"
   ]
  },
  {
   "cell_type": "markdown",
   "metadata": {},
   "source": [
    "####### one-hot encoding scheme easily by leveraging the \"get_dummies\"(…) function from pandas."
   ]
  },
  {
   "cell_type": "code",
   "execution_count": 9,
   "metadata": {},
   "outputs": [],
   "source": [
    "# 'HOUR' ,'ROAD_CLASS', 'TRAFFCTL', 'VISIBILITY', 'LIGHT', 'RDSFCOND'\n",
    "\n",
    "HOUR_onehot_features = pd.get_dummies(X['HOUR'])\n",
    "ROADCLASS_onehot_features = pd.get_dummies(X['ROAD_CLASS'])\n",
    "TRAFFCTL_onehot_features = pd.get_dummies(X['TRAFFCTL'])\n",
    "VISIBILITY_onehot_features = pd.get_dummies(X['VISIBILITY'])\n",
    "LIGHT_onehot_features = pd.get_dummies(X['LIGHT'])\n",
    "RDSFCOND_onehot_features = pd.get_dummies(X['RDSFCOND'])"
   ]
  },
  {
   "cell_type": "code",
   "execution_count": 10,
   "metadata": {},
   "outputs": [
    {
     "data": {
      "text/html": [
       "<div>\n",
       "<style scoped>\n",
       "    .dataframe tbody tr th:only-of-type {\n",
       "        vertical-align: middle;\n",
       "    }\n",
       "\n",
       "    .dataframe tbody tr th {\n",
       "        vertical-align: top;\n",
       "    }\n",
       "\n",
       "    .dataframe thead th {\n",
       "        text-align: right;\n",
       "    }\n",
       "</style>\n",
       "<table border=\"1\" class=\"dataframe\">\n",
       "  <thead>\n",
       "    <tr style=\"text-align: right;\">\n",
       "      <th></th>\n",
       "      <th>HOUR</th>\n",
       "      <th>ROAD_CLASS</th>\n",
       "      <th>TRAFFCTL</th>\n",
       "      <th>VISIBILITY</th>\n",
       "      <th>LIGHT</th>\n",
       "      <th>RDSFCOND</th>\n",
       "      <th>HOUR_Label</th>\n",
       "      <th>ROADCLASS_Label</th>\n",
       "      <th>TRAFFCTL_Label</th>\n",
       "      <th>VISIBILITY_Label</th>\n",
       "      <th>...</th>\n",
       "      <th>Dry</th>\n",
       "      <th>Ice</th>\n",
       "      <th>Loose Sand or Gravel</th>\n",
       "      <th>Loose Snow</th>\n",
       "      <th>Other</th>\n",
       "      <th>Packed Snow</th>\n",
       "      <th>Slush</th>\n",
       "      <th>Spilled liquid</th>\n",
       "      <th>Unknown</th>\n",
       "      <th>Wet</th>\n",
       "    </tr>\n",
       "  </thead>\n",
       "  <tbody>\n",
       "    <tr>\n",
       "      <th>0</th>\n",
       "      <td>2</td>\n",
       "      <td>Major Arterial</td>\n",
       "      <td>No Control</td>\n",
       "      <td>Clear</td>\n",
       "      <td>Dark</td>\n",
       "      <td>Wet</td>\n",
       "      <td>2</td>\n",
       "      <td>4</td>\n",
       "      <td>0</td>\n",
       "      <td>0</td>\n",
       "      <td>...</td>\n",
       "      <td>0</td>\n",
       "      <td>0</td>\n",
       "      <td>0</td>\n",
       "      <td>0</td>\n",
       "      <td>0</td>\n",
       "      <td>0</td>\n",
       "      <td>0</td>\n",
       "      <td>0</td>\n",
       "      <td>0</td>\n",
       "      <td>1</td>\n",
       "    </tr>\n",
       "    <tr>\n",
       "      <th>1</th>\n",
       "      <td>2</td>\n",
       "      <td>Major Arterial</td>\n",
       "      <td>No Control</td>\n",
       "      <td>Clear</td>\n",
       "      <td>Dark</td>\n",
       "      <td>Wet</td>\n",
       "      <td>2</td>\n",
       "      <td>4</td>\n",
       "      <td>0</td>\n",
       "      <td>0</td>\n",
       "      <td>...</td>\n",
       "      <td>0</td>\n",
       "      <td>0</td>\n",
       "      <td>0</td>\n",
       "      <td>0</td>\n",
       "      <td>0</td>\n",
       "      <td>0</td>\n",
       "      <td>0</td>\n",
       "      <td>0</td>\n",
       "      <td>0</td>\n",
       "      <td>1</td>\n",
       "    </tr>\n",
       "    <tr>\n",
       "      <th>2</th>\n",
       "      <td>2</td>\n",
       "      <td>Major Arterial</td>\n",
       "      <td>No Control</td>\n",
       "      <td>Clear</td>\n",
       "      <td>Dark</td>\n",
       "      <td>Wet</td>\n",
       "      <td>2</td>\n",
       "      <td>4</td>\n",
       "      <td>0</td>\n",
       "      <td>0</td>\n",
       "      <td>...</td>\n",
       "      <td>0</td>\n",
       "      <td>0</td>\n",
       "      <td>0</td>\n",
       "      <td>0</td>\n",
       "      <td>0</td>\n",
       "      <td>0</td>\n",
       "      <td>0</td>\n",
       "      <td>0</td>\n",
       "      <td>0</td>\n",
       "      <td>1</td>\n",
       "    </tr>\n",
       "    <tr>\n",
       "      <th>3</th>\n",
       "      <td>2</td>\n",
       "      <td>Major Arterial</td>\n",
       "      <td>No Control</td>\n",
       "      <td>Clear</td>\n",
       "      <td>Dark</td>\n",
       "      <td>Wet</td>\n",
       "      <td>2</td>\n",
       "      <td>4</td>\n",
       "      <td>0</td>\n",
       "      <td>0</td>\n",
       "      <td>...</td>\n",
       "      <td>0</td>\n",
       "      <td>0</td>\n",
       "      <td>0</td>\n",
       "      <td>0</td>\n",
       "      <td>0</td>\n",
       "      <td>0</td>\n",
       "      <td>0</td>\n",
       "      <td>0</td>\n",
       "      <td>0</td>\n",
       "      <td>1</td>\n",
       "    </tr>\n",
       "    <tr>\n",
       "      <th>4</th>\n",
       "      <td>2</td>\n",
       "      <td>Major Arterial</td>\n",
       "      <td>No Control</td>\n",
       "      <td>Clear</td>\n",
       "      <td>Dark</td>\n",
       "      <td>Wet</td>\n",
       "      <td>2</td>\n",
       "      <td>4</td>\n",
       "      <td>0</td>\n",
       "      <td>0</td>\n",
       "      <td>...</td>\n",
       "      <td>0</td>\n",
       "      <td>0</td>\n",
       "      <td>0</td>\n",
       "      <td>0</td>\n",
       "      <td>0</td>\n",
       "      <td>0</td>\n",
       "      <td>0</td>\n",
       "      <td>0</td>\n",
       "      <td>0</td>\n",
       "      <td>1</td>\n",
       "    </tr>\n",
       "  </tbody>\n",
       "</table>\n",
       "<p>5 rows × 86 columns</p>\n",
       "</div>"
      ],
      "text/plain": [
       "   HOUR      ROAD_CLASS    TRAFFCTL VISIBILITY LIGHT RDSFCOND  HOUR_Label  \\\n",
       "0     2  Major Arterial  No Control      Clear  Dark      Wet           2   \n",
       "1     2  Major Arterial  No Control      Clear  Dark      Wet           2   \n",
       "2     2  Major Arterial  No Control      Clear  Dark      Wet           2   \n",
       "3     2  Major Arterial  No Control      Clear  Dark      Wet           2   \n",
       "4     2  Major Arterial  No Control      Clear  Dark      Wet           2   \n",
       "\n",
       "   ROADCLASS_Label  TRAFFCTL_Label  VISIBILITY_Label  ...  Dry  Ice  \\\n",
       "0                4               0                 0  ...    0    0   \n",
       "1                4               0                 0  ...    0    0   \n",
       "2                4               0                 0  ...    0    0   \n",
       "3                4               0                 0  ...    0    0   \n",
       "4                4               0                 0  ...    0    0   \n",
       "\n",
       "   Loose Sand or Gravel  Loose Snow  Other  Packed Snow  Slush  \\\n",
       "0                     0           0      0            0      0   \n",
       "1                     0           0      0            0      0   \n",
       "2                     0           0      0            0      0   \n",
       "3                     0           0      0            0      0   \n",
       "4                     0           0      0            0      0   \n",
       "\n",
       "   Spilled liquid  Unknown  Wet  \n",
       "0               0        0    1  \n",
       "1               0        0    1  \n",
       "2               0        0    1  \n",
       "3               0        0    1  \n",
       "4               0        0    1  \n",
       "\n",
       "[5 rows x 86 columns]"
      ]
     },
     "execution_count": 10,
     "metadata": {},
     "output_type": "execute_result"
    }
   ],
   "source": [
    "# combine all dataframe (features) into one df\n",
    "X_all_features = pd.concat([X, HOUR_onehot_features, ROADCLASS_onehot_features,TRAFFCTL_onehot_features,VISIBILITY_onehot_features,\n",
    "                           LIGHT_onehot_features,RDSFCOND_onehot_features],axis=1)\n",
    "X_all_features.head()"
   ]
  },
  {
   "cell_type": "code",
   "execution_count": 11,
   "metadata": {},
   "outputs": [],
   "source": [
    "#X_all_features.to_csv(\"X_all_features.csv\")"
   ]
  },
  {
   "cell_type": "code",
   "execution_count": 12,
   "metadata": {},
   "outputs": [],
   "source": [
    "#X_all_features.columns"
   ]
  },
  {
   "cell_type": "code",
   "execution_count": 13,
   "metadata": {},
   "outputs": [],
   "source": [
    "#second data cleaning job\n",
    "# drop categorical columns(features) and leave its numeric features only. Others and Unknown also dropped\n",
    "\n",
    "X_all_features_cleaned = X_all_features.drop([\"Other\",\"Unknown\",\"HOUR\",\"HOUR_Label\",\"ROAD_CLASS\",\"TRAFFCTL\",\"VISIBILITY\",\n",
    "                                              \"LIGHT\",\"RDSFCOND\",'ROADCLASS_Label', 'TRAFFCTL_Label',\n",
    "                                              'VISIBILITY_Label','LIGHT_Label','RDSFCOND_Label'],axis=1)"
   ]
  },
  {
   "cell_type": "code",
   "execution_count": 14,
   "metadata": {},
   "outputs": [
    {
     "data": {
      "text/plain": [
       "Index([                       0,                        1,\n",
       "                              2,                        3,\n",
       "                              4,                        5,\n",
       "                              6,                        7,\n",
       "                              8,                        9,\n",
       "                             10,                       11,\n",
       "                             12,                       13,\n",
       "                             14,                       15,\n",
       "                             16,                       17,\n",
       "                             18,                       19,\n",
       "                             20,                       21,\n",
       "                             22,                       23,\n",
       "                    'Collector',             'Expressway',\n",
       "                      'Laneway',                  'Local',\n",
       "               'Major Arterial',    'Major Arterial Ramp',\n",
       "               'Minor Arterial',                'Pending',\n",
       "                   'No Control',           'PXO - No Ped',\n",
       "         'Pedestrian Crossover',         'Police Control',\n",
       "                 'School Guard',              'Stop Sign',\n",
       "         'Streetcar (Stop for)',     'Traffic Controller',\n",
       "                 'Traffic Gate',         'Traffic Signal',\n",
       "                   'Yield Sign',                  'Clear',\n",
       "                'Drifting Snow', 'Fog, Mist, Smoke, Dust',\n",
       "                'Freezing Rain',                   'Rain',\n",
       "                         'Snow',            'Strong wind',\n",
       "                         'Dark',       'Dark, artificial',\n",
       "                         'Dawn',       'Dawn, artificial',\n",
       "                     'Daylight',   'Daylight, artificial',\n",
       "                         'Dusk',       'Dusk, artificial',\n",
       "                          'Dry',                    'Ice',\n",
       "         'Loose Sand or Gravel',             'Loose Snow',\n",
       "                  'Packed Snow',                  'Slush',\n",
       "               'Spilled liquid',                    'Wet'],\n",
       "      dtype='object')"
      ]
     },
     "execution_count": 14,
     "metadata": {},
     "output_type": "execute_result"
    }
   ],
   "source": [
    "X_all_features_cleaned.columns "
   ]
  },
  {
   "cell_type": "code",
   "execution_count": 15,
   "metadata": {},
   "outputs": [
    {
     "name": "stdout",
     "output_type": "stream",
     "text": [
      "Number of features are : 66\n"
     ]
    }
   ],
   "source": [
    "print(f\"Number of features are : {len(X_all_features_cleaned.columns)}\") "
   ]
  },
  {
   "cell_type": "code",
   "execution_count": 16,
   "metadata": {},
   "outputs": [],
   "source": [
    "# X_all_features_cleaned.to_csv(\"X_all_features_cleaned.csv\" ) "
   ]
  },
  {
   "cell_type": "code",
   "execution_count": 17,
   "metadata": {},
   "outputs": [
    {
     "data": {
      "text/html": [
       "<div>\n",
       "<style scoped>\n",
       "    .dataframe tbody tr th:only-of-type {\n",
       "        vertical-align: middle;\n",
       "    }\n",
       "\n",
       "    .dataframe tbody tr th {\n",
       "        vertical-align: top;\n",
       "    }\n",
       "\n",
       "    .dataframe thead th {\n",
       "        text-align: right;\n",
       "    }\n",
       "</style>\n",
       "<table border=\"1\" class=\"dataframe\">\n",
       "  <thead>\n",
       "    <tr style=\"text-align: right;\">\n",
       "      <th></th>\n",
       "      <th>0</th>\n",
       "      <th>1</th>\n",
       "      <th>2</th>\n",
       "      <th>3</th>\n",
       "      <th>4</th>\n",
       "      <th>5</th>\n",
       "      <th>6</th>\n",
       "      <th>7</th>\n",
       "      <th>8</th>\n",
       "      <th>9</th>\n",
       "      <th>...</th>\n",
       "      <th>Dusk</th>\n",
       "      <th>Dusk, artificial</th>\n",
       "      <th>Dry</th>\n",
       "      <th>Ice</th>\n",
       "      <th>Loose Sand or Gravel</th>\n",
       "      <th>Loose Snow</th>\n",
       "      <th>Packed Snow</th>\n",
       "      <th>Slush</th>\n",
       "      <th>Spilled liquid</th>\n",
       "      <th>Wet</th>\n",
       "    </tr>\n",
       "  </thead>\n",
       "  <tbody>\n",
       "    <tr>\n",
       "      <th>0</th>\n",
       "      <td>0</td>\n",
       "      <td>0</td>\n",
       "      <td>1</td>\n",
       "      <td>0</td>\n",
       "      <td>0</td>\n",
       "      <td>0</td>\n",
       "      <td>0</td>\n",
       "      <td>0</td>\n",
       "      <td>0</td>\n",
       "      <td>0</td>\n",
       "      <td>...</td>\n",
       "      <td>0</td>\n",
       "      <td>0</td>\n",
       "      <td>0</td>\n",
       "      <td>0</td>\n",
       "      <td>0</td>\n",
       "      <td>0</td>\n",
       "      <td>0</td>\n",
       "      <td>0</td>\n",
       "      <td>0</td>\n",
       "      <td>1</td>\n",
       "    </tr>\n",
       "    <tr>\n",
       "      <th>1</th>\n",
       "      <td>0</td>\n",
       "      <td>0</td>\n",
       "      <td>1</td>\n",
       "      <td>0</td>\n",
       "      <td>0</td>\n",
       "      <td>0</td>\n",
       "      <td>0</td>\n",
       "      <td>0</td>\n",
       "      <td>0</td>\n",
       "      <td>0</td>\n",
       "      <td>...</td>\n",
       "      <td>0</td>\n",
       "      <td>0</td>\n",
       "      <td>0</td>\n",
       "      <td>0</td>\n",
       "      <td>0</td>\n",
       "      <td>0</td>\n",
       "      <td>0</td>\n",
       "      <td>0</td>\n",
       "      <td>0</td>\n",
       "      <td>1</td>\n",
       "    </tr>\n",
       "    <tr>\n",
       "      <th>2</th>\n",
       "      <td>0</td>\n",
       "      <td>0</td>\n",
       "      <td>1</td>\n",
       "      <td>0</td>\n",
       "      <td>0</td>\n",
       "      <td>0</td>\n",
       "      <td>0</td>\n",
       "      <td>0</td>\n",
       "      <td>0</td>\n",
       "      <td>0</td>\n",
       "      <td>...</td>\n",
       "      <td>0</td>\n",
       "      <td>0</td>\n",
       "      <td>0</td>\n",
       "      <td>0</td>\n",
       "      <td>0</td>\n",
       "      <td>0</td>\n",
       "      <td>0</td>\n",
       "      <td>0</td>\n",
       "      <td>0</td>\n",
       "      <td>1</td>\n",
       "    </tr>\n",
       "    <tr>\n",
       "      <th>3</th>\n",
       "      <td>0</td>\n",
       "      <td>0</td>\n",
       "      <td>1</td>\n",
       "      <td>0</td>\n",
       "      <td>0</td>\n",
       "      <td>0</td>\n",
       "      <td>0</td>\n",
       "      <td>0</td>\n",
       "      <td>0</td>\n",
       "      <td>0</td>\n",
       "      <td>...</td>\n",
       "      <td>0</td>\n",
       "      <td>0</td>\n",
       "      <td>0</td>\n",
       "      <td>0</td>\n",
       "      <td>0</td>\n",
       "      <td>0</td>\n",
       "      <td>0</td>\n",
       "      <td>0</td>\n",
       "      <td>0</td>\n",
       "      <td>1</td>\n",
       "    </tr>\n",
       "    <tr>\n",
       "      <th>4</th>\n",
       "      <td>0</td>\n",
       "      <td>0</td>\n",
       "      <td>1</td>\n",
       "      <td>0</td>\n",
       "      <td>0</td>\n",
       "      <td>0</td>\n",
       "      <td>0</td>\n",
       "      <td>0</td>\n",
       "      <td>0</td>\n",
       "      <td>0</td>\n",
       "      <td>...</td>\n",
       "      <td>0</td>\n",
       "      <td>0</td>\n",
       "      <td>0</td>\n",
       "      <td>0</td>\n",
       "      <td>0</td>\n",
       "      <td>0</td>\n",
       "      <td>0</td>\n",
       "      <td>0</td>\n",
       "      <td>0</td>\n",
       "      <td>1</td>\n",
       "    </tr>\n",
       "  </tbody>\n",
       "</table>\n",
       "<p>5 rows × 66 columns</p>\n",
       "</div>"
      ],
      "text/plain": [
       "   0  1  2  3  4  5  6  7  8  9  ...  Dusk  Dusk, artificial  Dry  Ice  \\\n",
       "0  0  0  1  0  0  0  0  0  0  0  ...     0                 0    0    0   \n",
       "1  0  0  1  0  0  0  0  0  0  0  ...     0                 0    0    0   \n",
       "2  0  0  1  0  0  0  0  0  0  0  ...     0                 0    0    0   \n",
       "3  0  0  1  0  0  0  0  0  0  0  ...     0                 0    0    0   \n",
       "4  0  0  1  0  0  0  0  0  0  0  ...     0                 0    0    0   \n",
       "\n",
       "   Loose Sand or Gravel  Loose Snow  Packed Snow  Slush  Spilled liquid  Wet  \n",
       "0                     0           0            0      0               0    1  \n",
       "1                     0           0            0      0               0    1  \n",
       "2                     0           0            0      0               0    1  \n",
       "3                     0           0            0      0               0    1  \n",
       "4                     0           0            0      0               0    1  \n",
       "\n",
       "[5 rows x 66 columns]"
      ]
     },
     "execution_count": 17,
     "metadata": {},
     "output_type": "execute_result"
    }
   ],
   "source": [
    "X_all_features_cleaned.head()"
   ]
  },
  {
   "cell_type": "code",
   "execution_count": 18,
   "metadata": {},
   "outputs": [],
   "source": [
    "X_features = X_all_features_cleaned"
   ]
  },
  {
   "cell_type": "code",
   "execution_count": 19,
   "metadata": {},
   "outputs": [
    {
     "name": "stdout",
     "output_type": "stream",
     "text": [
      "(16093, 66)\n",
      "(16093,)\n"
     ]
    }
   ],
   "source": [
    "print(X_features.shape)\n",
    "print(y.shape)"
   ]
  },
  {
   "cell_type": "markdown",
   "metadata": {},
   "source": [
    "### MODELING : Decision Tress "
   ]
  },
  {
   "cell_type": "code",
   "execution_count": 21,
   "metadata": {},
   "outputs": [],
   "source": [
    "#Split our data into training and testing\n",
    "from sklearn.model_selection import train_test_split\n",
    "X_train, X_test, y_train, y_test = train_test_split(X_features, y, random_state=42)"
   ]
  },
  {
   "cell_type": "code",
   "execution_count": 22,
   "metadata": {
    "scrolled": true
   },
   "outputs": [
    {
     "data": {
      "text/plain": [
       "DecisionTreeClassifier(ccp_alpha=0.0, class_weight=None, criterion='gini',\n",
       "                       max_depth=None, max_features=None, max_leaf_nodes=None,\n",
       "                       min_impurity_decrease=0.0, min_impurity_split=None,\n",
       "                       min_samples_leaf=1, min_samples_split=2,\n",
       "                       min_weight_fraction_leaf=0.0, presort='deprecated',\n",
       "                       random_state=None, splitter='best')"
      ]
     },
     "execution_count": 22,
     "metadata": {},
     "output_type": "execute_result"
    }
   ],
   "source": [
    "from sklearn import tree\n",
    "Fatality_classifier = tree.DecisionTreeClassifier()\n",
    "Fatality_classifier"
   ]
  },
  {
   "cell_type": "code",
   "execution_count": 23,
   "metadata": {},
   "outputs": [],
   "source": [
    "#Fit train data to model\n",
    "Fatality_classifier = Fatality_classifier.fit(X_train, y_train)"
   ]
  },
  {
   "cell_type": "code",
   "execution_count": 24,
   "metadata": {},
   "outputs": [
    {
     "name": "stdout",
     "output_type": "stream",
     "text": [
      "Training score (R-square) : 88.46%\n",
      "Test score (R-square): 87.33%\n"
     ]
    }
   ],
   "source": [
    "#Validate the model\n",
    "print(f\"Training score (R-square) : {round(Fatality_classifier.score(X_train, y_train)*100,2)}%\")\n",
    "print(f\"Test score (R-square): {round(Fatality_classifier.score(X_test, y_test)*100,2)}%\")"
   ]
  },
  {
   "cell_type": "markdown",
   "metadata": {},
   "source": [
    "Make predictions"
   ]
  },
  {
   "cell_type": "code",
   "execution_count": 25,
   "metadata": {},
   "outputs": [
    {
     "data": {
      "text/plain": [
       "array(['Non-Fatal Injury', 'Non-Fatal Injury', 'Non-Fatal Injury', ...,\n",
       "       'Non-Fatal Injury', 'Non-Fatal Injury', 'Non-Fatal Injury'],\n",
       "      dtype=object)"
      ]
     },
     "execution_count": 25,
     "metadata": {},
     "output_type": "execute_result"
    }
   ],
   "source": [
    "predictions = Fatality_classifier.predict(X_test)\n",
    "predictions"
   ]
  },
  {
   "cell_type": "code",
   "execution_count": 26,
   "metadata": {},
   "outputs": [
    {
     "data": {
      "text/html": [
       "<div>\n",
       "<style scoped>\n",
       "    .dataframe tbody tr th:only-of-type {\n",
       "        vertical-align: middle;\n",
       "    }\n",
       "\n",
       "    .dataframe tbody tr th {\n",
       "        vertical-align: top;\n",
       "    }\n",
       "\n",
       "    .dataframe thead th {\n",
       "        text-align: right;\n",
       "    }\n",
       "</style>\n",
       "<table border=\"1\" class=\"dataframe\">\n",
       "  <thead>\n",
       "    <tr style=\"text-align: right;\">\n",
       "      <th></th>\n",
       "      <th>Prediction</th>\n",
       "      <th>Actual</th>\n",
       "    </tr>\n",
       "  </thead>\n",
       "  <tbody>\n",
       "    <tr>\n",
       "      <th>4679</th>\n",
       "      <td>Non-Fatal Injury</td>\n",
       "      <td>Non-Fatal Injury</td>\n",
       "    </tr>\n",
       "    <tr>\n",
       "      <th>102</th>\n",
       "      <td>Non-Fatal Injury</td>\n",
       "      <td>Fatal</td>\n",
       "    </tr>\n",
       "    <tr>\n",
       "      <th>11364</th>\n",
       "      <td>Non-Fatal Injury</td>\n",
       "      <td>Non-Fatal Injury</td>\n",
       "    </tr>\n",
       "    <tr>\n",
       "      <th>2816</th>\n",
       "      <td>Fatal</td>\n",
       "      <td>Fatal</td>\n",
       "    </tr>\n",
       "    <tr>\n",
       "      <th>9500</th>\n",
       "      <td>Non-Fatal Injury</td>\n",
       "      <td>Non-Fatal Injury</td>\n",
       "    </tr>\n",
       "    <tr>\n",
       "      <th>...</th>\n",
       "      <td>...</td>\n",
       "      <td>...</td>\n",
       "    </tr>\n",
       "    <tr>\n",
       "      <th>2470</th>\n",
       "      <td>Non-Fatal Injury</td>\n",
       "      <td>Non-Fatal Injury</td>\n",
       "    </tr>\n",
       "    <tr>\n",
       "      <th>12463</th>\n",
       "      <td>Non-Fatal Injury</td>\n",
       "      <td>Non-Fatal Injury</td>\n",
       "    </tr>\n",
       "    <tr>\n",
       "      <th>15344</th>\n",
       "      <td>Non-Fatal Injury</td>\n",
       "      <td>Non-Fatal Injury</td>\n",
       "    </tr>\n",
       "    <tr>\n",
       "      <th>13000</th>\n",
       "      <td>Non-Fatal Injury</td>\n",
       "      <td>Non-Fatal Injury</td>\n",
       "    </tr>\n",
       "    <tr>\n",
       "      <th>10581</th>\n",
       "      <td>Non-Fatal Injury</td>\n",
       "      <td>Fatal</td>\n",
       "    </tr>\n",
       "  </tbody>\n",
       "</table>\n",
       "<p>4024 rows × 2 columns</p>\n",
       "</div>"
      ],
      "text/plain": [
       "             Prediction            Actual\n",
       "4679   Non-Fatal Injury  Non-Fatal Injury\n",
       "102    Non-Fatal Injury             Fatal\n",
       "11364  Non-Fatal Injury  Non-Fatal Injury\n",
       "2816              Fatal             Fatal\n",
       "9500   Non-Fatal Injury  Non-Fatal Injury\n",
       "...                 ...               ...\n",
       "2470   Non-Fatal Injury  Non-Fatal Injury\n",
       "12463  Non-Fatal Injury  Non-Fatal Injury\n",
       "15344  Non-Fatal Injury  Non-Fatal Injury\n",
       "13000  Non-Fatal Injury  Non-Fatal Injury\n",
       "10581  Non-Fatal Injury             Fatal\n",
       "\n",
       "[4024 rows x 2 columns]"
      ]
     },
     "execution_count": 26,
     "metadata": {},
     "output_type": "execute_result"
    }
   ],
   "source": [
    "predictions = Fatality_classifier.predict(X_test)\n",
    "result_df=pd.DataFrame({\"Prediction\":predictions, \"Actual\": y_test})\n",
    "result_df"
   ]
  },
  {
   "cell_type": "code",
   "execution_count": 27,
   "metadata": {},
   "outputs": [
    {
     "data": {
      "text/plain": [
       "Prediction    171\n",
       "Actual        171\n",
       "dtype: int64"
      ]
     },
     "execution_count": 27,
     "metadata": {},
     "output_type": "execute_result"
    }
   ],
   "source": [
    "result_df.loc[result_df[\"Prediction\"]==\"Fatal\"].count()"
   ]
  },
  {
   "cell_type": "code",
   "execution_count": 49,
   "metadata": {},
   "outputs": [],
   "source": [
    "result_df.to_csv(\"Prediction_results/prediction_result_DecisionTrees.csv\" ) "
   ]
  },
  {
   "cell_type": "markdown",
   "metadata": {},
   "source": [
    "Confusion matrix"
   ]
  },
  {
   "cell_type": "code",
   "execution_count": 29,
   "metadata": {},
   "outputs": [
    {
     "data": {
      "text/html": [
       "<div>\n",
       "<style scoped>\n",
       "    .dataframe tbody tr th:only-of-type {\n",
       "        vertical-align: middle;\n",
       "    }\n",
       "\n",
       "    .dataframe tbody tr th {\n",
       "        vertical-align: top;\n",
       "    }\n",
       "\n",
       "    .dataframe thead th {\n",
       "        text-align: right;\n",
       "    }\n",
       "</style>\n",
       "<table border=\"1\" class=\"dataframe\">\n",
       "  <thead>\n",
       "    <tr style=\"text-align: right;\">\n",
       "      <th></th>\n",
       "      <th>Prediction:Fatal</th>\n",
       "      <th>Prediction:Non-Fatal</th>\n",
       "    </tr>\n",
       "  </thead>\n",
       "  <tbody>\n",
       "    <tr>\n",
       "      <th>Actual:Fatal</th>\n",
       "      <td>109</td>\n",
       "      <td>448</td>\n",
       "    </tr>\n",
       "    <tr>\n",
       "      <th>Actual:Non-Fatal</th>\n",
       "      <td>62</td>\n",
       "      <td>3405</td>\n",
       "    </tr>\n",
       "  </tbody>\n",
       "</table>\n",
       "</div>"
      ],
      "text/plain": [
       "                  Prediction:Fatal  Prediction:Non-Fatal\n",
       "Actual:Fatal                   109                   448\n",
       "Actual:Non-Fatal                62                  3405"
      ]
     },
     "execution_count": 29,
     "metadata": {},
     "output_type": "execute_result"
    }
   ],
   "source": [
    "# Create Confusion matrix\n",
    "\n",
    "from sklearn.metrics import confusion_matrix\n",
    "\n",
    "pd.DataFrame(\n",
    "    confusion_matrix(y_test, predictions),\n",
    "    columns=['Prediction:Fatal', 'Prediction:Non-Fatal'],\n",
    "    index=['Actual:Fatal', 'Actual:Non-Fatal']\n",
    ")"
   ]
  },
  {
   "cell_type": "code",
   "execution_count": 30,
   "metadata": {},
   "outputs": [
    {
     "data": {
      "text/plain": [
       "0.8732604373757455"
      ]
     },
     "execution_count": 30,
     "metadata": {},
     "output_type": "execute_result"
    }
   ],
   "source": [
    "from sklearn.metrics import accuracy_score\n",
    "accuracy_score(y_test, predictions)"
   ]
  },
  {
   "cell_type": "markdown",
   "metadata": {},
   "source": [
    "Classification report"
   ]
  },
  {
   "cell_type": "code",
   "execution_count": 31,
   "metadata": {},
   "outputs": [
    {
     "name": "stdout",
     "output_type": "stream",
     "text": [
      "Decision Tress model ---------------------------------------\n",
      "                  precision    recall  f1-score   support\n",
      "\n",
      "           Fatal       0.64      0.20      0.30       557\n",
      "Non-Fatal Injury       0.88      0.98      0.93      3467\n",
      "\n",
      "        accuracy                           0.87      4024\n",
      "       macro avg       0.76      0.59      0.61      4024\n",
      "    weighted avg       0.85      0.87      0.84      4024\n",
      "\n"
     ]
    }
   ],
   "source": [
    "# Calculate classification report\n",
    "from sklearn.metrics import classification_report\n",
    "print(\"Decision Tress model ---------------------------------------\")\n",
    "print(classification_report(y_test, predictions,\n",
    "                            target_names=[\"Fatal\", \"Non-Fatal Injury\"]))"
   ]
  },
  {
   "cell_type": "code",
   "execution_count": 35,
   "metadata": {},
   "outputs": [],
   "source": [
    "#save model\n",
    "import pickle\n",
    "filename = 'DecisionTree_final_model.pickle'\n",
    "pickle.dump(Fatality_classifier, open(filename, 'wb'))"
   ]
  },
  {
   "cell_type": "markdown",
   "metadata": {},
   "source": [
    "Features by their importance"
   ]
  },
  {
   "cell_type": "code",
   "execution_count": 47,
   "metadata": {},
   "outputs": [],
   "source": [
    "importances = Fatality_classifier.feature_importances_"
   ]
  },
  {
   "cell_type": "code",
   "execution_count": 45,
   "metadata": {},
   "outputs": [
    {
     "data": {
      "text/plain": [
       "[(0.08500660083247022, 'Major Arterial'),\n",
       " (0.05148859504700012, 'Clear'),\n",
       " (0.04622128892472204, 'Dark, artificial'),\n",
       " (0.045712071027446996, 'Dark'),\n",
       " (0.04216517428218934, 'Wet'),\n",
       " (0.041036191520109115, 'Local'),\n",
       " (0.03996509233584608, 'Minor Arterial'),\n",
       " (0.032619818480615244, 'Dry'),\n",
       " (0.030003077699493952, 'Collector'),\n",
       " (0.029105909051779944, 'Traffic Signal'),\n",
       " (0.027440863450353674, 'Daylight'),\n",
       " (0.024865785578275842, 'Snow'),\n",
       " (0.024159990649151638, 'Rain'),\n",
       " (0.020410027573034215, 23),\n",
       " (0.020347138028215153, 12),\n",
       " (0.01968197780265137, 18),\n",
       " (0.019617673904525252, 15),\n",
       " (0.01911531477869213, 7),\n",
       " (0.018139942113111554, 1),\n",
       " (0.017798487803807134, 20),\n",
       " (0.016480547411280064, 10),\n",
       " (0.015024553232236875, 17),\n",
       " (0.014837360658212714, 3),\n",
       " (0.014305294529622804, 'Dusk'),\n",
       " (0.013984056718247925, 19),\n",
       " (0.013606795665534532, 21),\n",
       " (0.013492941321627767, 2),\n",
       " (0.013156773310491436, 5),\n",
       " (0.013059316224604418, 6),\n",
       " (0.012877750221882346, 11),\n",
       " (0.012181275812229076, 8),\n",
       " (0.012117751747859342, 'Slush'),\n",
       " (0.01211589687154532, 'Pedestrian Crossover'),\n",
       " (0.011955335514416085, 'Stop Sign'),\n",
       " (0.01153541928162803, 'Freezing Rain'),\n",
       " (0.010743610947056123, 'No Control'),\n",
       " (0.009859226134790006, 'Dusk, artificial'),\n",
       " (0.00893413826262957, 'Laneway'),\n",
       " (0.008764556882448924, 'Dawn'),\n",
       " (0.008729578928902389, 16),\n",
       " (0.008514113903153448, 9),\n",
       " (0.008403360777828418, 4),\n",
       " (0.008288880850998596, 13),\n",
       " (0.007659694893558726, 'Traffic Gate'),\n",
       " (0.007112086806748736, 14),\n",
       " (0.006995307479190084, 'Loose Snow'),\n",
       " (0.00699286941352456, 'Expressway'),\n",
       " (0.006735869843760215, 'Packed Snow'),\n",
       " (0.006439590301758228, 'Fog, Mist, Smoke, Dust'),\n",
       " (0.006291639834334618, 'Daylight, artificial'),\n",
       " (0.005762692556008103, 22),\n",
       " (0.004568981559995118, 'Dawn, artificial'),\n",
       " (0.003359973220426141, 'Traffic Controller'),\n",
       " (0.0033424238216093667, 'Drifting Snow'),\n",
       " (0.0030948368718605257, 'Ice'),\n",
       " (0.0020460581326278166, 'Loose Sand or Gravel'),\n",
       " (0.0014092913116870436, 0),\n",
       " (0.0003191278601934879, 'Pending'),\n",
       " (0.0, 'Yield Sign'),\n",
       " (0.0, 'Strong wind'),\n",
       " (0.0, 'Streetcar (Stop for)'),\n",
       " (0.0, 'Spilled liquid'),\n",
       " (0.0, 'School Guard'),\n",
       " (0.0, 'Police Control'),\n",
       " (0.0, 'PXO - No Ped'),\n",
       " (0.0, 'Major Arterial Ramp')]"
      ]
     },
     "execution_count": 45,
     "metadata": {},
     "output_type": "execute_result"
    }
   ],
   "source": [
    "# sort the features by their importance\n",
    "sorted(zip(importances, X_features.columns), reverse=True)"
   ]
  },
  {
   "cell_type": "markdown",
   "metadata": {},
   "source": [
    "######## List for user to select  (for the drop down menu)############"
   ]
  },
  {
   "cell_type": "code",
   "execution_count": 33,
   "metadata": {},
   "outputs": [
    {
     "name": "stdout",
     "output_type": "stream",
     "text": [
      "Features are under the 6 categories: \n",
      "---------------------------------\n",
      "#1.HOUR:\n",
      " [0, 1, 2, 3, 4, 5, 6, 7, 8, 9, 10, 11, 12, 13, 14, 15, 16, 17, 18, 19, 20, 21, 22, 23]\n",
      "#2.ROAD CLASS:\n",
      "['Collector', 'Expressway', 'Laneway', 'Local', 'Major Arterial', 'Major Arterial Ramp', 'Minor Arterial', 'Other', 'Pending', 'Unknown']\n",
      "#3.Traffic Control:\n",
      "['No Control', 'PXO - No Ped', 'Pedestrian Crossover', 'Police Control', 'School Guard', 'Stop Sign', 'Streetcar (Stop for)', 'Traffic Controller', 'Traffic Gate', 'Traffic Signal', 'Unknown', 'Yield Sign']\n",
      "#4.Visibility:\n",
      "['Clear', 'Drifting Snow', 'Fog, Mist, Smoke, Dust', 'Freezing Rain', 'Other', 'Rain', 'Snow', 'Strong wind', 'Unknown']\n",
      "#5.Light:\n",
      "['Dark', 'Dark, artificial', 'Dawn', 'Dawn, artificial', 'Daylight', 'Daylight, artificial', 'Dusk', 'Dusk, artificial', 'Other']\n",
      "#6.Road Condition:\n",
      "['Dry', 'Ice', 'Loose Sand or Gravel', 'Loose Snow', 'Other', 'Packed Snow', 'Slush', 'Spilled liquid', 'Unknown', 'Wet']\n"
     ]
    }
   ],
   "source": [
    "HOUR_labels = list(HOUR_LE.classes_)\n",
    "ROADCLASS_labels = list(Road_class_LE.classes_)\n",
    "TRAFFCTL_labels = list(TRAFFCTL_LE.classes_)\n",
    "VISIBILITY_labels = list(VISIBILITY_LE.classes_)\n",
    "LIGHT_labels = list(LIGHT_LE.classes_)\n",
    "RDSFCOND_labels = list(RDSFCOND_LE.classes_)\n",
    "\n",
    "print(\"Features are under the 6 categories: \")\n",
    "print(\"---------------------------------\")\n",
    "print(f\"#1.HOUR:\\n {HOUR_labels}\") \n",
    "print(f\"#2.ROAD CLASS:\\n{ROADCLASS_labels}\") \n",
    "print(f\"#3.Traffic Control:\\n{TRAFFCTL_labels}\") \n",
    "print(f\"#4.Visibility:\\n{VISIBILITY_labels}\") \n",
    "print(f\"#5.Light:\\n{LIGHT_labels}\") \n",
    "print(f\"#6.Road Condition:\\n{RDSFCOND_labels}\") \n",
    "\n",
    "# User can select from the drop down menu except \"Other\", \"Unknown\"\n",
    "# if user select 11 for HOUR category, it means user drives or on the road b/t 11 ~ 12"
   ]
  }
 ],
 "metadata": {
  "kernelspec": {
   "display_name": "Python 3",
   "language": "python",
   "name": "python3"
  },
  "language_info": {
   "codemirror_mode": {
    "name": "ipython",
    "version": 3
   },
   "file_extension": ".py",
   "mimetype": "text/x-python",
   "name": "python",
   "nbconvert_exporter": "python",
   "pygments_lexer": "ipython3",
   "version": "3.7.6"
  },
  "toc": {
   "base_numbering": 1,
   "nav_menu": {},
   "number_sections": true,
   "sideBar": true,
   "skip_h1_title": false,
   "title_cell": "Table of Contents",
   "title_sidebar": "Contents",
   "toc_cell": false,
   "toc_position": {},
   "toc_section_display": true,
   "toc_window_display": false
  }
 },
 "nbformat": 4,
 "nbformat_minor": 4
}
